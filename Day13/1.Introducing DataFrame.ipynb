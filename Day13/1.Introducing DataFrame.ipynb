{
 "cells": [
  {
   "cell_type": "code",
   "execution_count": 3,
   "id": "57e24e99-13bb-4bfb-9f68-7c4a6cc5609b",
   "metadata": {},
   "outputs": [
    {
     "name": "stdout",
     "output_type": "stream",
     "text": [
      "      Name  Age         City\n",
      "0    Alice   25     New York\n",
      "1      Bob   30  Los Angeles\n",
      "2  Charlie   35      Chicago\n"
     ]
    }
   ],
   "source": [
    "import pandas as pd\n",
    "\n",
    "data = {'Name': ['Alice', 'Bob', 'Charlie'],\n",
    "        'Age': [25, 30, 35],\n",
    "        'City': ['New York', 'Los Angeles', 'Chicago']}\n",
    "\n",
    "df = pd.DataFrame(data)\n",
    "print(df)\n"
   ]
  },
  {
   "cell_type": "code",
   "execution_count": 5,
   "id": "48c21a71-0718-45fd-8165-f77450f2b9fb",
   "metadata": {},
   "outputs": [
    {
     "name": "stdout",
     "output_type": "stream",
     "text": [
      "      Name  Age         City\n",
      "0    Alice   25     New York\n",
      "1      Bob   30  Los Angeles\n",
      "2  Charlie   35      Chicago\n",
      "First 3 rows:\n",
      "    Name  Age         City\n",
      "0  Alice   25     New York\n",
      "1    Bob   30  Los Angeles\n",
      "\n",
      "\n"
     ]
    }
   ],
   "source": [
    "# .head(): Display the first n rows of the DataFrame.\n",
    "print(df.head())\n",
    "print(\"First 3 rows:\")\n",
    "print(df.head(2))  # You can change the number to display more or fewer rows\n",
    "print(\"\\n\")"
   ]
  },
  {
   "cell_type": "code",
   "execution_count": 7,
   "id": "25513202-6746-4f82-8934-97a0d2329ec3",
   "metadata": {},
   "outputs": [],
   "source": [
    "# .head(): Display the first n rows of the DataFrame.(default is 5 rows).\n",
    "# .tail(): Display the last n rows of the DataFrame.(default is 5 rows).\n",
    "# .shape: Get the dimensions (rows, columns).\n",
    "# .describe(): Generate descriptive statistics (e.g., mean, std, min, max).\n",
    "# .info(): Get a summary of the DataFrame (e.g., column types, non-null counts)."
   ]
  },
  {
   "cell_type": "code",
   "execution_count": 9,
   "id": "2e9d3824-923f-4f2d-822a-2e16c0143110",
   "metadata": {},
   "outputs": [
    {
     "name": "stdout",
     "output_type": "stream",
     "text": [
      "<class 'pandas.core.frame.DataFrame'>\n",
      "RangeIndex: 3 entries, 0 to 2\n",
      "Data columns (total 3 columns):\n",
      " #   Column  Non-Null Count  Dtype \n",
      "---  ------  --------------  ----- \n",
      " 0   Name    3 non-null      object\n",
      " 1   Age     3 non-null      int64 \n",
      " 2   City    3 non-null      object\n",
      "dtypes: int64(1), object(2)\n",
      "memory usage: 204.0+ bytes\n"
     ]
    }
   ],
   "source": [
    "df.info()  # Gives info about non-null counts, data types, and memory usage"
   ]
  },
  {
   "cell_type": "code",
   "execution_count": 11,
   "id": "ecb639d6-8ee3-40d0-89f0-8829b799f123",
   "metadata": {},
   "outputs": [
    {
     "name": "stdout",
     "output_type": "stream",
     "text": [
      "(3, 3)\n"
     ]
    }
   ],
   "source": [
    "print(df.shape) #Get the dimensions (rows, columns)"
   ]
  },
  {
   "cell_type": "code",
   "execution_count": 13,
   "id": "fffe11bf-f829-4cfc-ba6a-4feffbd57c06",
   "metadata": {},
   "outputs": [
    {
     "name": "stdout",
     "output_type": "stream",
     "text": [
      "        Age\n",
      "count   3.0\n",
      "mean   30.0\n",
      "std     5.0\n",
      "min    25.0\n",
      "25%    27.5\n",
      "50%    30.0\n",
      "75%    32.5\n",
      "max    35.0\n"
     ]
    }
   ],
   "source": [
    "print(df.describe())  # This works only for numerical columns by default"
   ]
  },
  {
   "cell_type": "code",
   "execution_count": 15,
   "id": "d4ffe8c8-1a1f-4ea2-8e53-6e599773e53a",
   "metadata": {},
   "outputs": [
    {
     "name": "stdout",
     "output_type": "stream",
     "text": [
      "[['Alice' 25 'New York']\n",
      " ['Bob' 30 'Los Angeles']\n",
      " ['Charlie' 35 'Chicago']]\n"
     ]
    }
   ],
   "source": [
    "print(df.values)"
   ]
  },
  {
   "cell_type": "code",
   "execution_count": 19,
   "id": "97632753-8748-442b-acbe-a2ede82a0bdf",
   "metadata": {},
   "outputs": [
    {
     "name": "stdout",
     "output_type": "stream",
     "text": [
      "Index(['Name', 'Age', 'City'], dtype='object')\n"
     ]
    }
   ],
   "source": [
    "print(df.columns) #number of column"
   ]
  },
  {
   "cell_type": "code",
   "execution_count": 21,
   "id": "d6d87b9d-1a23-4b07-8807-e4ae8bf24daa",
   "metadata": {},
   "outputs": [
    {
     "name": "stdout",
     "output_type": "stream",
     "text": [
      "RangeIndex(start=0, stop=3, step=1)\n"
     ]
    }
   ],
   "source": [
    "print(df.index) #number of rows"
   ]
  },
  {
   "cell_type": "code",
   "execution_count": 25,
   "id": "b496123b-65ee-4aec-9a1c-9d67d5e22165",
   "metadata": {},
   "outputs": [],
   "source": [
    "# # Print the head of the homelessness data\n",
    "# print(homelessness.head())\n",
    "\n",
    "# # Print information about homelessness\n",
    "# print(homelessness.info())\n",
    "\n",
    "# # Print the shape of homelessness\n",
    "# print(homelessness.shape)\n",
    "\n",
    "# # Print a description of homelessness\n",
    "# print(homelessness.describe())"
   ]
  },
  {
   "cell_type": "code",
   "execution_count": 27,
   "id": "f4b19af7-5c52-4dea-97b0-015e1e0f0eaf",
   "metadata": {},
   "outputs": [],
   "source": [
    "# # Import pandas using the alias pd\n",
    "# import pandas as pd\n",
    "\n",
    "# # Print the values of homelessness\n",
    "\n",
    "# print(homelessness.values)\n",
    "# # Print the column index of homelessness\n",
    "# print(homelessness.columns)\n",
    "\n",
    "# # Print the row index of homelessness\n",
    "# print(homelessness.index)"
   ]
  },
  {
   "cell_type": "code",
   "execution_count": null,
   "id": "1ddae077-0846-41e9-a6c5-98e3f148a01e",
   "metadata": {},
   "outputs": [],
   "source": []
  }
 ],
 "metadata": {
  "kernelspec": {
   "display_name": "Python 3 (ipykernel)",
   "language": "python",
   "name": "python3"
  },
  "language_info": {
   "codemirror_mode": {
    "name": "ipython",
    "version": 3
   },
   "file_extension": ".py",
   "mimetype": "text/x-python",
   "name": "python",
   "nbconvert_exporter": "python",
   "pygments_lexer": "ipython3",
   "version": "3.12.4"
  }
 },
 "nbformat": 4,
 "nbformat_minor": 5
}
