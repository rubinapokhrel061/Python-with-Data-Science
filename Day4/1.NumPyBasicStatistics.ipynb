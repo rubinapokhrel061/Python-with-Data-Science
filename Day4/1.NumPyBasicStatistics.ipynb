{
 "cells": [
  {
   "cell_type": "code",
   "execution_count": 3,
   "id": "a43c14ea-e84d-4c0e-82f6-ac832df5400f",
   "metadata": {},
   "outputs": [
    {
     "data": {
      "text/plain": [
       "4.333333333333333"
      ]
     },
     "execution_count": 3,
     "metadata": {},
     "output_type": "execute_result"
    }
   ],
   "source": [
    "import numpy as np \n",
    "a = np.array([[3,7,5],[8,4,3],[2,4,9]]) \n",
    "np.mean(a[:,0])\n",
    "# first column mean (3+8+2)/3"
   ]
  },
  {
   "cell_type": "code",
   "execution_count": 5,
   "id": "31920aa3-63ef-4ed0-b178-2a7f9b637e77",
   "metadata": {},
   "outputs": [],
   "source": [
    "# The notation a[:,0] uses slicing\n",
    "# : indicates that you want all rows.\n",
    "# 0 specifies the first column (indexing starts at 0)."
   ]
  },
  {
   "cell_type": "code",
   "execution_count": 7,
   "id": "d8200472-43da-45bf-b554-d147914a390c",
   "metadata": {},
   "outputs": [
    {
     "data": {
      "text/plain": [
       "3.0"
      ]
     },
     "execution_count": 7,
     "metadata": {},
     "output_type": "execute_result"
    }
   ],
   "source": [
    "# The median is the middle value in a sorted list \n",
    "#short  first column i.e 2,3,8\n",
    "np.median(a[:,0])"
   ]
  },
  {
   "cell_type": "code",
   "execution_count": 11,
   "id": "8469c726-6449-4c53-9c76-974bc13d36a1",
   "metadata": {},
   "outputs": [
    {
     "data": {
      "text/plain": [
       "array([[1.        , 0.96076892],\n",
       "       [0.96076892, 1.        ]])"
      ]
     },
     "execution_count": 11,
     "metadata": {},
     "output_type": "execute_result"
    }
   ],
   "source": [
    "data = np.array([\n",
    "    [1, 2, 3, 4, 5],  \n",
    "    [5, 4, 3, 2, 1],  \n",
    "    [2, 3, 4, 5, 6]   \n",
    "])\n",
    "# correlation coefficient formula (r)\n",
    "# r = (n * Σ(xy) - Σx * Σy) / sqrt([(n * Σx^2 - (Σx)^2) * (n * Σy^2 - (Σy)^2)])\n",
    "#data[:, 0] extracts the first row\n",
    "#data[:, 1] extracts the second row \n",
    "np.corrcoef(data[:,0],data[:,1])"
   ]
  },
  {
   "cell_type": "code",
   "execution_count": 15,
   "id": "a1d694fc-961a-49a2-9768-288bd0c59072",
   "metadata": {},
   "outputs": [
    {
     "data": {
      "text/plain": [
       "1.699673171197595"
      ]
     },
     "execution_count": 15,
     "metadata": {},
     "output_type": "execute_result"
    }
   ],
   "source": [
    "# Population Standard Deviation Formula\n",
    "# σ = sqrt( (1/N) * Σ(xi - μ)² )\n",
    "# Sample Standard Deviation Formula\n",
    "# s = sqrt( (1/(n-1)) * Σ(xi - x̄)² )\n",
    "np.std(data[:,0])"
   ]
  },
  {
   "cell_type": "code",
   "execution_count": 17,
   "id": "4a14da80-b7bf-438f-a91c-8eee224b9104",
   "metadata": {},
   "outputs": [
    {
     "name": "stdout",
     "output_type": "stream",
     "text": [
      "Total sum: 50\n",
      "Row sums: [15 15 20]\n",
      "Column sums: [ 8  9 10 11 12]\n"
     ]
    }
   ],
   "source": [
    "# Sum of all elements\n",
    "total_sum = np.sum(data)\n",
    "\n",
    "# Sum along each row\n",
    "row_sums = np.sum(data, axis=1)\n",
    "\n",
    "# Sum along each column\n",
    "column_sums = np.sum(data, axis=0)\n",
    "\n",
    "print(\"Total sum:\", total_sum)\n",
    "print(\"Row sums:\", row_sums)\n",
    "print(\"Column sums:\", column_sums)\n"
   ]
  },
  {
   "cell_type": "code",
   "execution_count": 19,
   "id": "be447b90-547f-4f3d-ac1e-470aff78ec5d",
   "metadata": {},
   "outputs": [
    {
     "name": "stdout",
     "output_type": "stream",
     "text": [
      "Sorted rows:\n",
      " [[1 2 3 4 5]\n",
      " [1 2 3 4 5]\n",
      " [2 3 4 5 6]]\n",
      "Sorted by second column:\n",
      " [[1 2 3 4 5]\n",
      " [2 3 4 5 6]\n",
      " [5 4 3 2 1]]\n"
     ]
    }
   ],
   "source": [
    "sorted_rows = np.array([np.sort(row) for row in data])\n",
    "\n",
    "print(\"Sorted rows:\\n\", sorted_rows)\n",
    "# Sort by the second column (index 1)\n",
    "sorted_by_column = data[data[:, 1].argsort()]\n",
    "\n",
    "print(\"Sorted by second column:\\n\", sorted_by_column)"
   ]
  },
  {
   "cell_type": "code",
   "execution_count": 29,
   "id": "5f5ab039-de27-445c-9750-cf1ec2627fe2",
   "metadata": {},
   "outputs": [
    {
     "name": "stdout",
     "output_type": "stream",
     "text": [
      "[1.72 1.68 1.37 ... 1.77 1.91 1.83]\n"
     ]
    }
   ],
   "source": [
    "# Generate data\n",
    "# Arguments for np.random.normal()\n",
    "#1. distribution mean \n",
    "#2. distribution standard deviation\n",
    "# 3.number of samples\n",
    "height =np.round(np.random.normal(1.75,0.20,5000),2)\n",
    "print(height)\n",
    "# 1.75: This is the average height in meters.\n",
    "# 0.20: This is how much the heights can vary (standard deviation).\n",
    "# 5000: This is the number of heights you want to generate.\n",
    "# So, this line of code creates 5000 random height values that average around 1.75 meters,\n",
    "# with most values falling within about 0.20 meters of that average.\n",
    "# The heights are rounded to two decimal places"
   ]
  },
  {
   "cell_type": "code",
   "execution_count": 1,
   "id": "9ed90cbc-e689-4dfd-8758-7e32ecf9f244",
   "metadata": {},
   "outputs": [
    {
     "ename": "NameError",
     "evalue": "name 'np_baseball' is not defined",
     "output_type": "error",
     "traceback": [
      "\u001b[1;31m---------------------------------------------------------------------------\u001b[0m",
      "\u001b[1;31mNameError\u001b[0m                                 Traceback (most recent call last)",
      "Cell \u001b[1;32mIn[1], line 3\u001b[0m\n\u001b[0;32m      1\u001b[0m \u001b[38;5;66;03m# Create np_height_in from np_baseball\u001b[39;00m\n\u001b[1;32m----> 3\u001b[0m np_height_in \u001b[38;5;241m=\u001b[39m np_baseball[:, \u001b[38;5;241m0\u001b[39m]\n\u001b[0;32m      4\u001b[0m \u001b[38;5;66;03m# Print out the mean of np_height_in\u001b[39;00m\n\u001b[0;32m      6\u001b[0m \u001b[38;5;28mprint\u001b[39m( np\u001b[38;5;241m.\u001b[39mmean(np_height_in))\n",
      "\u001b[1;31mNameError\u001b[0m: name 'np_baseball' is not defined"
     ]
    }
   ],
   "source": [
    "\n",
    "\n",
    "# # Create np_height_in from np_baseball\n",
    "\n",
    "# np_height_in = np_baseball[:, 0]\n",
    "# # Print out the mean of np_height_in\n",
    "\n",
    "# print( np.mean(np_height_in))\n",
    "\n",
    "# # Print out the median of np_height_in\n",
    "# print(np.median(np_height_in))"
   ]
  },
  {
   "cell_type": "code",
   "execution_count": null,
   "id": "9173768a-57cc-4ac8-b518-c441988ed214",
   "metadata": {},
   "outputs": [],
   "source": [
    "# avg = np.mean(np_baseball[:,0])\n",
    "# print(\"Average: \" + str(avg))\n",
    "\n",
    "# # Print median height\n",
    "# med = np.median(np_baseball[:, 0])\n",
    "# print(\"Median: \" + str(med))\n",
    "\n",
    "# # Print out the standard deviation on height\n",
    "# stddev = np.std(np_baseball[:, 0])\n",
    "# print(\"Standard Deviation: \" + str(stddev))\n",
    "\n",
    "# # Print out correlation between first and second column\n",
    "# corr = np.corrcoef(np_baseball[:, 0], np_baseball[:, 1]) \n",
    "# print(\"Correlation: \" + str(corr))"
   ]
  }
 ],
 "metadata": {
  "kernelspec": {
   "display_name": "Python 3 (ipykernel)",
   "language": "python",
   "name": "python3"
  },
  "language_info": {
   "codemirror_mode": {
    "name": "ipython",
    "version": 3
   },
   "file_extension": ".py",
   "mimetype": "text/x-python",
   "name": "python",
   "nbconvert_exporter": "python",
   "pygments_lexer": "ipython3",
   "version": "3.12.4"
  }
 },
 "nbformat": 4,
 "nbformat_minor": 5
}
