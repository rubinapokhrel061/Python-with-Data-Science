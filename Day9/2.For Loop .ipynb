{
 "cells": [
  {
   "cell_type": "code",
   "execution_count": 1,
   "id": "fee8efb3-8f04-4f3b-80b0-93706139d67a",
   "metadata": {},
   "outputs": [],
   "source": [
    "# For loop"
   ]
  },
  {
   "cell_type": "code",
   "execution_count": 15,
   "id": "2d6e22d4-0461-43dc-bede-029111898635",
   "metadata": {},
   "outputs": [],
   "source": [
    "#syntax: for var in seq: expresssion\n",
    "# for each var in seq execute expression"
   ]
  },
  {
   "cell_type": "code",
   "execution_count": 13,
   "id": "2dd33ac1-477a-4207-a013-8d53a5888fca",
   "metadata": {},
   "outputs": [
    {
     "name": "stdout",
     "output_type": "stream",
     "text": [
      "[1.73, 1.68, 1.71, 1.89]\n"
     ]
    }
   ],
   "source": [
    "fam =[1.73,1.68,1.71,1.89]\n",
    "print(fam)"
   ]
  },
  {
   "cell_type": "code",
   "execution_count": 9,
   "id": "1dd59131-955f-416d-b2c1-2131a8a7a0b8",
   "metadata": {},
   "outputs": [
    {
     "name": "stdout",
     "output_type": "stream",
     "text": [
      "1.73\n",
      "1.68\n",
      "1.71\n",
      "1.89\n"
     ]
    }
   ],
   "source": [
    "print(fam[0])\n",
    "print(fam[1])\n",
    "print(fam[2])\n",
    "print(fam[3])\n"
   ]
  },
  {
   "cell_type": "code",
   "execution_count": 21,
   "id": "78232fda-5faa-4c44-8e40-39b47b01a530",
   "metadata": {},
   "outputs": [
    {
     "name": "stdout",
     "output_type": "stream",
     "text": [
      "1.73\n",
      "1.68\n",
      "1.71\n",
      "1.89\n"
     ]
    }
   ],
   "source": [
    "# syntax: for var in seq: expresssion\n",
    "fam =[1.73,1.68,1.71,1.89]\n",
    "for num in fam:\n",
    "    print(num)\n",
    "# no access to indexes"
   ]
  },
  {
   "cell_type": "code",
   "execution_count": 23,
   "id": "07775ada-0350-44ec-8b86-7b16d83b88ce",
   "metadata": {},
   "outputs": [
    {
     "name": "stdout",
     "output_type": "stream",
     "text": [
      "index0:1.73\n",
      "index1:1.68\n",
      "index2:1.71\n",
      "index3:1.89\n"
     ]
    }
   ],
   "source": [
    "# The enumerate() function takes a collection (e.g. a tuple)\n",
    "# and returns it as an enumerate object.\n",
    "# (iterator with index and the value).\n",
    "\n",
    "fam =[1.73,1.68,1.71,1.89]\n",
    "for index,height in enumerate(fam):\n",
    "    print(\"index\" + str(index) +\":\"+str(height))"
   ]
  },
  {
   "cell_type": "code",
   "execution_count": 27,
   "id": "9eaf0449-4722-4cb7-a586-c48f3b80c0f3",
   "metadata": {},
   "outputs": [],
   "source": [
    "# enumerate(iterable, start=0)\n",
    "# The enumerate() function takes two arguments:\n",
    "\n",
    "# iterable - a sequence, an iterator, or objects that support iteration.\n",
    "# start (optional) - enumerate() starts counting from this number. \n",
    "# If start is omitted, 0 is taken as start. "
   ]
  },
  {
   "cell_type": "code",
   "execution_count": 29,
   "id": "a5438bee-0214-45f0-b568-f69da7ceca72",
   "metadata": {},
   "outputs": [
    {
     "name": "stdout",
     "output_type": "stream",
     "text": [
      "R\n",
      "U\n",
      "B\n",
      "I\n",
      "N\n",
      "A\n"
     ]
    }
   ],
   "source": [
    "# loop over string\n",
    "for c in \"rubina\":\n",
    "    print(c.capitalize())"
   ]
  },
  {
   "cell_type": "code",
   "execution_count": 31,
   "id": "23b645b9-46ce-4370-b341-3f7d3f22dda8",
   "metadata": {},
   "outputs": [
    {
     "name": "stdout",
     "output_type": "stream",
     "text": [
      "11.25\n",
      "18.0\n",
      "20.0\n",
      "10.75\n",
      "9.5\n"
     ]
    }
   ],
   "source": [
    "# areas list\n",
    "areas = [11.25, 18.0, 20.0, 10.75, 9.50]\n",
    "\n",
    "# Code the for loop\n",
    "for area in areas:\n",
    "    print(area)"
   ]
  },
  {
   "cell_type": "code",
   "execution_count": 33,
   "id": "c503c73d-006d-49a1-b222-84589d064de9",
   "metadata": {},
   "outputs": [
    {
     "name": "stdout",
     "output_type": "stream",
     "text": [
      "room0:11.25\n",
      "room1:18.0\n",
      "room2:20.0\n",
      "room3:10.75\n",
      "room4:9.5\n"
     ]
    }
   ],
   "source": [
    "# areas list\n",
    "areas = [11.25, 18.0, 20.0, 10.75, 9.50]\n",
    "\n",
    "# Change for loop to use enumerate() and update print()\n",
    "for x,y in enumerate(areas) :\n",
    "    print(\"room\" +str(x)+\":\"+str(y))"
   ]
  },
  {
   "cell_type": "code",
   "execution_count": 35,
   "id": "6996a9f0-8b36-40f5-bea2-2252d0a2fe9d",
   "metadata": {},
   "outputs": [
    {
     "name": "stdout",
     "output_type": "stream",
     "text": [
      "room  1: 11.25\n",
      "room  2: 18.0\n",
      "room  3: 20.0\n",
      "room  4: 10.75\n",
      "room  5: 9.5\n"
     ]
    }
   ],
   "source": [
    "# areas list\n",
    "areas = [11.25, 18.0, 20.0, 10.75, 9.50]\n",
    "\n",
    "# Code the for loop\n",
    "for index, area in enumerate(areas,start=1) :\n",
    "    print(\"room \" +\" \"+ str(index) + \": \" + str(area))"
   ]
  },
  {
   "cell_type": "code",
   "execution_count": 37,
   "id": "ed786972-25d7-4d80-b5b8-f73f2ed6ccf2",
   "metadata": {},
   "outputs": [
    {
     "name": "stdout",
     "output_type": "stream",
     "text": [
      "the hallway is 11.25 sqm\n",
      "the kitchen is 18.0 sqm\n",
      "the living room is 20.0 sqm\n",
      "the bedroom is 10.75 sqm\n",
      "the bathroom is 9.5 sqm\n"
     ]
    }
   ],
   "source": [
    "# house list of lists\n",
    "house = [[\"hallway\", 11.25], \n",
    "         [\"kitchen\", 18.0], \n",
    "         [\"living room\", 20.0], \n",
    "         [\"bedroom\", 10.75], \n",
    "         [\"bathroom\", 9.50]]\n",
    "         \n",
    "# Build a for loop from scratch\n",
    "for room in house:\n",
    "    x = room[0]  # Room name\n",
    "    y = room[1]  # Room area in sqm\n",
    "    print(\"the \" +str(x)+ \" is \"+str(y) +\" sqm\")"
   ]
  },
  {
   "cell_type": "code",
   "execution_count": null,
   "id": "fc269923-92e1-4b11-81b0-cfebe5af409a",
   "metadata": {},
   "outputs": [],
   "source": []
  }
 ],
 "metadata": {
  "kernelspec": {
   "display_name": "Python 3 (ipykernel)",
   "language": "python",
   "name": "python3"
  },
  "language_info": {
   "codemirror_mode": {
    "name": "ipython",
    "version": 3
   },
   "file_extension": ".py",
   "mimetype": "text/x-python",
   "name": "python",
   "nbconvert_exporter": "python",
   "pygments_lexer": "ipython3",
   "version": "3.12.4"
  }
 },
 "nbformat": 4,
 "nbformat_minor": 5
}
