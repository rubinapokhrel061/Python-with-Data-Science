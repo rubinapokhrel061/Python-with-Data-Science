{
 "cells": [
  {
   "cell_type": "code",
   "execution_count": 1,
   "id": "8869401e-9913-4ef4-a30e-7459aa338ab2",
   "metadata": {},
   "outputs": [],
   "source": [
    "# while loop"
   ]
  },
  {
   "cell_type": "code",
   "execution_count": 5,
   "id": "c81b2239-75d3-4bdb-84de-f84bc231f182",
   "metadata": {},
   "outputs": [
    {
     "name": "stdout",
     "output_type": "stream",
     "text": [
      "z is divisible by 2\n"
     ]
    }
   ],
   "source": [
    "# Goes through contruct only once!\n",
    "# if-elif-else\n",
    "z=6\n",
    "if z%2 ==0 : \n",
    "    print(\"z is divisible by 2\") #Executed\n",
    "elif z%5 ==0 :\n",
    "    print(\"z is divisible by 5\")\n",
    "else :\n",
    "    print(\"z is neither divisible by 2 nor by 5\")"
   ]
  },
  {
   "cell_type": "code",
   "execution_count": 7,
   "id": "7744cdff-3128-4930-a77a-9b33c1e26dc8",
   "metadata": {},
   "outputs": [],
   "source": [
    "# while loop = repeated if statement"
   ]
  },
  {
   "cell_type": "code",
   "execution_count": 9,
   "id": "86f32bef-8471-405a-986a-2aad47980bb3",
   "metadata": {},
   "outputs": [],
   "source": [
    "# syntax while condition : expression"
   ]
  },
  {
   "cell_type": "code",
   "execution_count": 13,
   "id": "c7de2ea6-3dff-4cad-9c29-9838bf91eb4c",
   "metadata": {},
   "outputs": [
    {
     "name": "stdout",
     "output_type": "stream",
     "text": [
      "12.5\n",
      "3.125\n",
      "0.78125\n"
     ]
    }
   ],
   "source": [
    "error = 50.0\n",
    "while error >1:\n",
    "    error = error/4\n",
    "    print(error)"
   ]
  },
  {
   "cell_type": "code",
   "execution_count": 17,
   "id": "6b6993d2-4df4-4f13-808f-91d257926e4a",
   "metadata": {},
   "outputs": [],
   "source": [
    "# Error starts at 50\n",
    "# Divide error by 4 on every run\n",
    "# continue until error no longer\n"
   ]
  },
  {
   "cell_type": "code",
   "execution_count": 21,
   "id": "e238e04e-b889-477d-805f-7197e29c5a94",
   "metadata": {},
   "outputs": [
    {
     "name": "stdout",
     "output_type": "stream",
     "text": [
      "correcting...\n",
      "7\n",
      "correcting...\n",
      "6\n",
      "correcting...\n",
      "5\n",
      "correcting...\n",
      "4\n",
      "correcting...\n",
      "3\n",
      "correcting...\n",
      "2\n",
      "correcting...\n",
      "1\n",
      "correcting...\n",
      "0\n"
     ]
    }
   ],
   "source": [
    "# Initialize offset\n",
    "\n",
    "offset=8\n",
    "# Code the while loop\n",
    "while offset !=0 :\n",
    "    print(\"correcting...\")\n",
    "    offset = offset - 1\n",
    "    print(offset)"
   ]
  },
  {
   "cell_type": "code",
   "execution_count": 23,
   "id": "9ed4498e-3d34-4e54-8c18-ab911815731f",
   "metadata": {},
   "outputs": [
    {
     "name": "stdout",
     "output_type": "stream",
     "text": [
      "correcting...\n",
      "-5\n",
      "correcting...\n",
      "-4\n",
      "correcting...\n",
      "-3\n",
      "correcting...\n",
      "-2\n",
      "correcting...\n",
      "-1\n",
      "correcting...\n",
      "0\n"
     ]
    }
   ],
   "source": [
    "# Initialize offset\n",
    "offset = -6\n",
    "\n",
    "# Code the while loop\n",
    "while offset != 0 :\n",
    "    print(\"correcting...\")\n",
    "    if offset>0 :\n",
    "      offset=offset-1\n",
    "    else : \n",
    "     offset=offset+1   \n",
    "    print(offset)"
   ]
  },
  {
   "cell_type": "code",
   "execution_count": null,
   "id": "04b51c8d-d738-4bed-a48a-3dc2cfc1167e",
   "metadata": {},
   "outputs": [],
   "source": []
  }
 ],
 "metadata": {
  "kernelspec": {
   "display_name": "Python 3 (ipykernel)",
   "language": "python",
   "name": "python3"
  },
  "language_info": {
   "codemirror_mode": {
    "name": "ipython",
    "version": 3
   },
   "file_extension": ".py",
   "mimetype": "text/x-python",
   "name": "python",
   "nbconvert_exporter": "python",
   "pygments_lexer": "ipython3",
   "version": "3.12.4"
  }
 },
 "nbformat": 4,
 "nbformat_minor": 5
}
