{
 "cells": [
  {
   "cell_type": "code",
   "execution_count": 3,
   "id": "9fd4ae05-5c01-472d-8fb5-f980f0582792",
   "metadata": {},
   "outputs": [],
   "source": [
    "# Methods ->Function that belong to objects"
   ]
  },
  {
   "cell_type": "code",
   "execution_count": 5,
   "id": "b1373d18-c347-4006-9a56-23e70547f141",
   "metadata": {},
   "outputs": [],
   "source": [
    "# object type->str,float,list\n",
    "# capitalize(),replace() are the example of str  methods\n",
    "# bit_length(),conjugate() are the example of float methods\n",
    "# index(),count() are the example of list methods"
   ]
  },
  {
   "cell_type": "code",
   "execution_count": 37,
   "id": "09524a05-4a25-47b7-b35f-d37f852476be",
   "metadata": {},
   "outputs": [
    {
     "data": {
      "text/plain": [
       "3"
      ]
     },
     "execution_count": 37,
     "metadata": {},
     "output_type": "execute_result"
    }
   ],
   "source": [
    "# list methods\n",
    "\n",
    "#index()\n",
    "# syntax list.index(elmnt)\n",
    "# value->Required. Any type (string, number, list, tuple, etc.). The value to search for.\n",
    "# index() method only returns the first occurrence of the value.\n",
    "\n",
    "list = [\"h\", \"b\", \"a\", \"c\", \"f\", \"d\", \"e\", \"g\"]\n",
    "list.index(\"c\")"
   ]
  },
  {
   "cell_type": "code",
   "execution_count": 13,
   "id": "d1953a9b-38e9-4f2c-9484-288af3b1db56",
   "metadata": {},
   "outputs": [
    {
     "name": "stdout",
     "output_type": "stream",
     "text": [
      "2\n"
     ]
    }
   ],
   "source": [
    "#count()\n",
    "# syntax list.count(value)\n",
    "# elmnt->Required. Any type (string, number, list, etc.). The element to search for\n",
    "# index() method Returns the number of elements with the specified value\n",
    "\n",
    "points = [1, 4, 2, 9, 7, 8, 9, 3, 1]\n",
    "x= points.count(9)\n",
    "print(x)"
   ]
  },
  {
   "cell_type": "code",
   "execution_count": 25,
   "id": "57df2d50-60c3-4fdb-9ae2-0ddacd423abe",
   "metadata": {},
   "outputs": [
    {
     "data": {
      "text/plain": [
       "'rubina'"
      ]
     },
     "execution_count": 25,
     "metadata": {},
     "output_type": "execute_result"
    }
   ],
   "source": [
    "#str methods\n",
    "name =\"rubina\"\n",
    "name"
   ]
  },
  {
   "cell_type": "code",
   "execution_count": 27,
   "id": "e276c56f-ce6b-4664-a619-e64b442f55a8",
   "metadata": {},
   "outputs": [
    {
     "data": {
      "text/plain": [
       "'Rubina'"
      ]
     },
     "execution_count": 27,
     "metadata": {},
     "output_type": "execute_result"
    }
   ],
   "source": [
    "name.capitalize()"
   ]
  },
  {
   "cell_type": "code",
   "execution_count": 29,
   "id": "5388131d-4324-4bd3-b6bf-2fa7714e8bc3",
   "metadata": {},
   "outputs": [
    {
     "data": {
      "text/plain": [
       "'hima'"
      ]
     },
     "execution_count": 29,
     "metadata": {},
     "output_type": "execute_result"
    }
   ],
   "source": [
    "name.replace(\"rubina\",\"hima\")"
   ]
  },
  {
   "cell_type": "code",
   "execution_count": 31,
   "id": "9b69e17a-316d-49ff-8795-3e64ec8d7fdd",
   "metadata": {},
   "outputs": [],
   "source": [
    "#Object have methods associated depending on type"
   ]
  },
  {
   "cell_type": "code",
   "execution_count": 33,
   "id": "708de06a-0394-44f4-93b6-04889e880a49",
   "metadata": {},
   "outputs": [
    {
     "data": {
      "text/plain": [
       "'hima'"
      ]
     },
     "execution_count": 33,
     "metadata": {},
     "output_type": "execute_result"
    }
   ],
   "source": [
    "#work\n",
    "name.replace(\"rubina\",\"hima\")"
   ]
  },
  {
   "cell_type": "code",
   "execution_count": 35,
   "id": "7efd0650-9563-4f47-8f57-601cd338065a",
   "metadata": {},
   "outputs": [
    {
     "ename": "AttributeError",
     "evalue": "'list' object has no attribute 'replace'",
     "output_type": "error",
     "traceback": [
      "\u001b[1;31m---------------------------------------------------------------------------\u001b[0m",
      "\u001b[1;31mAttributeError\u001b[0m                            Traceback (most recent call last)",
      "Cell \u001b[1;32mIn[35], line 4\u001b[0m\n\u001b[0;32m      1\u001b[0m \u001b[38;5;66;03m# but list object has no attribute replace\u001b[39;00m\n\u001b[0;32m      3\u001b[0m points \u001b[38;5;241m=\u001b[39m [\u001b[38;5;241m1\u001b[39m, \u001b[38;5;241m4\u001b[39m, \u001b[38;5;241m2\u001b[39m, \u001b[38;5;241m9\u001b[39m, \u001b[38;5;241m7\u001b[39m, \u001b[38;5;241m8\u001b[39m, \u001b[38;5;241m9\u001b[39m, \u001b[38;5;241m3\u001b[39m, \u001b[38;5;241m1\u001b[39m]\n\u001b[1;32m----> 4\u001b[0m points\u001b[38;5;241m.\u001b[39mreplace(\u001b[38;5;241m4\u001b[39m,\u001b[38;5;241m3\u001b[39m)\n",
      "\u001b[1;31mAttributeError\u001b[0m: 'list' object has no attribute 'replace'"
     ]
    }
   ],
   "source": [
    "# but list object has no attribute replace\n",
    "\n",
    "points = [1, 4, 2, 9, 7, 8, 9, 3, 1]\n",
    "points.replace(4,3)"
   ]
  },
  {
   "cell_type": "code",
   "execution_count": 41,
   "id": "e6907268-04d0-45b1-a740-70b4f1bd6675",
   "metadata": {},
   "outputs": [
    {
     "data": {
      "text/plain": [
       "3"
      ]
     },
     "execution_count": 41,
     "metadata": {},
     "output_type": "execute_result"
    }
   ],
   "source": [
    "\n",
    "name = \"rubina\"\n",
    "name.index(\"i\")"
   ]
  },
  {
   "cell_type": "code",
   "execution_count": 45,
   "id": "2cb1074b-3f3f-45ae-93be-732d443aa5de",
   "metadata": {},
   "outputs": [
    {
     "data": {
      "text/plain": [
       "['a', 4, 'b', 9, 'c', 8, 9, 3, 1, 'i']"
      ]
     },
     "execution_count": 45,
     "metadata": {},
     "output_type": "execute_result"
    }
   ],
   "source": [
    "#method 2\n",
    "points = ['a', 4, 'b', 9, 'c', 8, 9, 3, 1]\n",
    "points.append('i')\n",
    "points"
   ]
  },
  {
   "cell_type": "code",
   "execution_count": 47,
   "id": "df51e0f2-91d8-48ae-bbee-f3b85642a3dd",
   "metadata": {},
   "outputs": [
    {
     "data": {
      "text/plain": [
       "3"
      ]
     },
     "execution_count": 47,
     "metadata": {},
     "output_type": "execute_result"
    }
   ],
   "source": [
    "#summary\n",
    "#method : call functions on objects\n",
    "#like\n",
    "points = ['a', 4, 'b', 9, 'c', 8, 9, 3, 1]\n",
    "points.index(9)"
   ]
  },
  {
   "cell_type": "code",
   "execution_count": 49,
   "id": "c09592fe-0fed-41bf-b0e5-db7bc9de0c52",
   "metadata": {},
   "outputs": [
    {
     "name": "stdout",
     "output_type": "stream",
     "text": [
      "poolhouse\n",
      "POOLHOUSE\n",
      "3\n"
     ]
    }
   ],
   "source": [
    "# string to experiment with: place\n",
    "place = \"poolhouse\"\n",
    "\n",
    "# Use upper() on place\n",
    "place_up = place.upper()\n",
    "\n",
    "# Print out place and place_up\n",
    "print(place)\n",
    "print(place_up)\n",
    "\n",
    "\n",
    "# Print out the number of o's in place\n",
    "print(place.count(\"o\"))\n"
   ]
  },
  {
   "cell_type": "code",
   "execution_count": 51,
   "id": "cfd91a3b-823d-49ac-bb34-3e80d4a8df75",
   "metadata": {},
   "outputs": [
    {
     "name": "stdout",
     "output_type": "stream",
     "text": [
      "2\n",
      "1\n"
     ]
    }
   ],
   "source": [
    "# Create list areas\n",
    "areas = [11.25, 18.0, 20.0, 10.75, 9.50]\n",
    "\n",
    "# Print out the index of the element 20.0\n",
    "print(areas.index(20.0))\n",
    "\n",
    "# Print out how often 9.50 appears in areas\n",
    "print(areas.count(9.50))"
   ]
  },
  {
   "cell_type": "code",
   "execution_count": 55,
   "id": "ba54f918-0c95-40e1-bed9-3dec7ef156f2",
   "metadata": {},
   "outputs": [],
   "source": [
    "# .append(), that adds an element to the list it is called on,\n",
    "# .remove(), that removes the first element of a list that matches the input, and\n",
    "# .reverse(), that reverses the order of the elements in the list it is called on."
   ]
  },
  {
   "cell_type": "code",
   "execution_count": 57,
   "id": "a4854d95-58b4-4bc6-baee-d93860a8855d",
   "metadata": {},
   "outputs": [
    {
     "name": "stdout",
     "output_type": "stream",
     "text": [
      "[11.25, 18.0, 20.0, 10.75, 9.5, 24.5, 15.45]\n",
      "[15.45, 24.5, 9.5, 10.75, 20.0, 18.0, 11.25]\n"
     ]
    }
   ],
   "source": [
    "# Create list areas\n",
    "areas = [11.25, 18.0, 20.0, 10.75, 9.50]\n",
    "\n",
    "# Use append twice to add poolhouse and garage size\n",
    "areas.append(24.5)\n",
    "areas.append(15.45)\n",
    "\n",
    "\n",
    "# Print out areas\n",
    "print(areas)\n",
    "\n",
    "# Reverse the orders of the elements in areas\n",
    "areas.reverse()\n",
    "\n",
    "# Print out areas\n",
    "print(areas)"
   ]
  },
  {
   "cell_type": "code",
   "execution_count": null,
   "id": "6cc8fa8c-2489-45e1-89cc-a4d55be4f61c",
   "metadata": {},
   "outputs": [],
   "source": []
  }
 ],
 "metadata": {
  "kernelspec": {
   "display_name": "Python 3 (ipykernel)",
   "language": "python",
   "name": "python3"
  },
  "language_info": {
   "codemirror_mode": {
    "name": "ipython",
    "version": 3
   },
   "file_extension": ".py",
   "mimetype": "text/x-python",
   "name": "python",
   "nbconvert_exporter": "python",
   "pygments_lexer": "ipython3",
   "version": "3.12.4"
  }
 },
 "nbformat": 4,
 "nbformat_minor": 5
}
