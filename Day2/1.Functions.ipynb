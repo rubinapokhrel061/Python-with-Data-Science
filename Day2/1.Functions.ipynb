{
 "cells": [
  {
   "cell_type": "code",
   "execution_count": 1,
   "id": "7111592e-e4b2-47b1-84e6-e37fbeff49aa",
   "metadata": {},
   "outputs": [],
   "source": [
    "#Functions"
   ]
  },
  {
   "cell_type": "code",
   "execution_count": 3,
   "id": "cb671b32-5179-40df-9639-4dcb2a88efaf",
   "metadata": {},
   "outputs": [],
   "source": [
    "#built in function"
   ]
  },
  {
   "cell_type": "code",
   "execution_count": 5,
   "id": "33a31123-0673-4c86-bfe6-b31514f4241d",
   "metadata": {},
   "outputs": [
    {
     "data": {
      "text/plain": [
       "[1.23, 1.12, 1.45, 1.34, 1.24]"
      ]
     },
     "execution_count": 5,
     "metadata": {},
     "output_type": "execute_result"
    }
   ],
   "source": [
    "#max()-> maximum of list\n",
    "collection =[1.23,1.12,1.45,1.34,1.24]\n",
    "collection"
   ]
  },
  {
   "cell_type": "code",
   "execution_count": 7,
   "id": "34e6b85e-2506-4a41-951f-e2989e177371",
   "metadata": {},
   "outputs": [
    {
     "data": {
      "text/plain": [
       "1.45"
      ]
     },
     "execution_count": 7,
     "metadata": {},
     "output_type": "execute_result"
    }
   ],
   "source": [
    "max(collection)"
   ]
  },
  {
   "cell_type": "code",
   "execution_count": 9,
   "id": "e1b42269-373a-4d43-8ed9-5e4106c4d531",
   "metadata": {},
   "outputs": [
    {
     "data": {
      "text/plain": [
       "1.45"
      ]
     },
     "execution_count": 9,
     "metadata": {},
     "output_type": "execute_result"
    }
   ],
   "source": [
    "maximum=max(collection)\n",
    "maximum"
   ]
  },
  {
   "cell_type": "code",
   "execution_count": 17,
   "id": "3f398e88-15f1-4a11-a6f5-e8044d756c45",
   "metadata": {},
   "outputs": [
    {
     "data": {
      "text/plain": [
       "1.35"
      ]
     },
     "execution_count": 17,
     "metadata": {},
     "output_type": "execute_result"
    }
   ],
   "source": [
    "#round()\n",
    "#round  a number to only two decimals\n",
    "round(1.34567,2)"
   ]
  },
  {
   "cell_type": "code",
   "execution_count": 21,
   "id": "6aca663e-fdec-4b2e-b102-50845f55bff3",
   "metadata": {},
   "outputs": [
    {
     "data": {
      "text/plain": [
       "2"
      ]
     },
     "execution_count": 21,
     "metadata": {},
     "output_type": "execute_result"
    }
   ],
   "source": [
    "#round to the nearest integer\n",
    "round(1.54567)"
   ]
  },
  {
   "cell_type": "code",
   "execution_count": 25,
   "id": "86355f2b-c710-426a-be1a-9306a9e5072f",
   "metadata": {},
   "outputs": [
    {
     "name": "stdout",
     "output_type": "stream",
     "text": [
      "<class 'list'>\n"
     ]
    }
   ],
   "source": [
    "# Create variables var1 and var2\n",
    "var1 = [1, 2, 3, 4]\n",
    "var2 = True\n",
    "\n",
    "# Print out type of var1\n",
    "print(type(var1))"
   ]
  },
  {
   "cell_type": "code",
   "execution_count": 29,
   "id": "516fcea3-32fe-443b-b8e9-a3225a757954",
   "metadata": {},
   "outputs": [
    {
     "name": "stdout",
     "output_type": "stream",
     "text": [
      "4\n"
     ]
    }
   ],
   "source": [
    "# Print out length of var1\n",
    "print(len(var1))"
   ]
  },
  {
   "cell_type": "code",
   "execution_count": 31,
   "id": "b9c9f034-c504-4bc4-b62d-2ce32633927e",
   "metadata": {},
   "outputs": [],
   "source": [
    "# Convert var2 to an integer: out2\n",
    "out2 = int(var2)"
   ]
  },
  {
   "cell_type": "code",
   "execution_count": 35,
   "id": "cb57b14a-7b77-4504-bce7-48a65c31a302",
   "metadata": {},
   "outputs": [
    {
     "data": {
      "text/plain": [
       "23"
      ]
     },
     "execution_count": 35,
     "metadata": {},
     "output_type": "execute_result"
    }
   ],
   "source": [
    "# pow()requires base and exp arguments; mod is optional.\n",
    "#pow(x,y,z) -> (x^y)%z\n",
    "#pow(4,3,5)-> (4*4*4)%5\n",
    "pow(38, -1, mod=97)"
   ]
  },
  {
   "cell_type": "code",
   "execution_count": 39,
   "id": "356a255c-a542-44ac-9eda-09fbeefc3daf",
   "metadata": {},
   "outputs": [
    {
     "data": {
      "text/plain": [
       "True"
      ]
     },
     "execution_count": 39,
     "metadata": {},
     "output_type": "execute_result"
    }
   ],
   "source": [
    "23 * 38 % 97 == 1"
   ]
  },
  {
   "cell_type": "code",
   "execution_count": 45,
   "id": "54a6da13-7f22-4df7-93df-5b226759eb3d",
   "metadata": {},
   "outputs": [
    {
     "name": "stdout",
     "output_type": "stream",
     "text": [
      "[11.25, 18.0, 20.0, 10.75, 9.5]\n",
      "[20.0, 18.0, 11.25, 10.75, 9.5]\n"
     ]
    }
   ],
   "source": [
    "# Create lists first and second\n",
    "first = [11.25, 18.0, 20.0]\n",
    "second = [10.75, 9.50]\n",
    "\n",
    "# Paste together first and second: full\n",
    "full = first+ second\n",
    "print(full)\n",
    "# Sort full in descending order: full_sorted\n",
    "full_sorted =sorted(full,reverse=True)\n",
    "\n",
    "# Print out full_sorted\n",
    "print(full_sorted)"
   ]
  },
  {
   "cell_type": "code",
   "execution_count": 47,
   "id": "7c060dd6-f103-43fa-b9f1-0cd018c58670",
   "metadata": {},
   "outputs": [
    {
     "name": "stdout",
     "output_type": "stream",
     "text": [
      "['a', 'b', 'c', 'd', 'e', 'f', 'g', 'h']\n"
     ]
    }
   ],
   "source": [
    "a = (\"b\", \"g\", \"a\", \"d\", \"f\", \"c\", \"h\", \"e\")\n",
    "x = sorted(a)\n",
    "print(x)"
   ]
  },
  {
   "cell_type": "code",
   "execution_count": 49,
   "id": "00f7914a-5434-428b-bbcd-ecd36df7675d",
   "metadata": {},
   "outputs": [],
   "source": [
    "# sorted(iterable, key=key, reverse=reverse)\n",
    "# iterable-> Required. The sequence to sort, list, dictionary, tuple etc.\n",
    "#key-> Optional. A Function to execute to decide the order. Default is None\n",
    "#reverse->Optional. A Boolean. False will sort ascending,\n",
    "#True will sort descending. Default is False"
   ]
  },
  {
   "cell_type": "code",
   "execution_count": 51,
   "id": "b5318d32-b3ed-4116-a70f-88cfaa2ab405",
   "metadata": {},
   "outputs": [
    {
     "name": "stdout",
     "output_type": "stream",
     "text": [
      "['Jane', 'Sally', 'Jenifer']\n"
     ]
    }
   ],
   "source": [
    "# Sort using the key parameter.\n",
    "# To sort a list by length, we can use the built-in len function.\n",
    "a = (\"Jenifer\", \"Sally\", \"Jane\")\n",
    "x = sorted(a, key=len)\n",
    "print(x)"
   ]
  },
  {
   "cell_type": "code",
   "execution_count": 53,
   "id": "8739026c-b441-4342-b3f5-986091a75a3e",
   "metadata": {},
   "outputs": [
    {
     "name": "stdout",
     "output_type": "stream",
     "text": [
      "['h', 'g', 'f', 'e', 'd', 'c', 'b', 'a']\n"
     ]
    }
   ],
   "source": [
    "a = (\"h\", \"b\", \"a\", \"c\", \"f\", \"d\", \"e\", \"g\")\n",
    "x = sorted(a, reverse=True)\n",
    "print(x)"
   ]
  },
  {
   "cell_type": "code",
   "execution_count": null,
   "id": "6c2655dc-c1a6-47c7-b291-2319f1aba649",
   "metadata": {},
   "outputs": [],
   "source": []
  }
 ],
 "metadata": {
  "kernelspec": {
   "display_name": "Python 3 (ipykernel)",
   "language": "python",
   "name": "python3"
  },
  "language_info": {
   "codemirror_mode": {
    "name": "ipython",
    "version": 3
   },
   "file_extension": ".py",
   "mimetype": "text/x-python",
   "name": "python",
   "nbconvert_exporter": "python",
   "pygments_lexer": "ipython3",
   "version": "3.12.4"
  }
 },
 "nbformat": 4,
 "nbformat_minor": 5
}
