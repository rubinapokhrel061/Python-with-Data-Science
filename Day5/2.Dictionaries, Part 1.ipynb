{
 "cells": [
  {
   "cell_type": "code",
   "execution_count": 1,
   "id": "125ac6e6-1a51-41e7-af5f-c75e17bffb27",
   "metadata": {},
   "outputs": [],
   "source": [
    "# Dictionaries"
   ]
  },
  {
   "cell_type": "code",
   "execution_count": 3,
   "id": "5756ccd5-543a-4de5-81be-b3b26f1c7e6b",
   "metadata": {},
   "outputs": [
    {
     "data": {
      "text/plain": [
       "2"
      ]
     },
     "execution_count": 3,
     "metadata": {},
     "output_type": "execute_result"
    }
   ],
   "source": [
    "# list\n",
    "pop =[30.55,2.77,39.21]\n",
    "countries=[\"nepal\",\"india\",\"algeria\"]\n",
    "index=countries.index(\"algeria\")\n",
    "index"
   ]
  },
  {
   "cell_type": "code",
   "execution_count": 7,
   "id": "3aaaa4bb-13fc-4001-9e6b-05d511719fb8",
   "metadata": {},
   "outputs": [
    {
     "data": {
      "text/plain": [
       "39.21"
      ]
     },
     "execution_count": 7,
     "metadata": {},
     "output_type": "execute_result"
    }
   ],
   "source": [
    "pop[index]\n",
    "# this way not convenient and not intuitive"
   ]
  },
  {
   "cell_type": "code",
   "execution_count": 9,
   "id": "99c9dad3-e29f-45c3-8510-bb4484513bba",
   "metadata": {},
   "outputs": [
    {
     "data": {
      "text/plain": [
       "39.21"
      ]
     },
     "execution_count": 9,
     "metadata": {},
     "output_type": "execute_result"
    }
   ],
   "source": [
    "# alternative -> dictionary\n",
    "world ={\"nepal\":30.55,\"india\":2.77,\"algeria\":39.21}\n",
    "world[\"algeria\"]"
   ]
  },
  {
   "cell_type": "code",
   "execution_count": 11,
   "id": "88af56aa-0290-4c4e-bcd5-4da1d7df97d9",
   "metadata": {},
   "outputs": [],
   "source": [
    "# # Definition of countries and capital\n",
    "# countries = ['spain', 'france', 'germany', 'norway']\n",
    "# capitals = ['madrid', 'paris', 'berlin', 'oslo']\n",
    "\n",
    "# # Get index of 'germany': ind_ger\n",
    "# ind_ger=countries.index(\"germany\")\n",
    "\n",
    "# # Use ind_ger to print out capital of Germany\n",
    "# print(capitals[ind_ger])"
   ]
  },
  {
   "cell_type": "code",
   "execution_count": null,
   "id": "581606cd-0666-41da-8302-f1178dc221f8",
   "metadata": {},
   "outputs": [],
   "source": [
    "# # Definition of dictionary\n",
    "# europe = {'spain':'madrid', 'france':'paris', 'germany':'berlin', 'norway':'oslo' }\n",
    "\n",
    "# # Print out the keys in europe\n",
    "\n",
    "# print(europe.keys())\n",
    "# # Print out value that belongs to key 'norway'\n",
    "# print(europe['norway'])"
   ]
  }
 ],
 "metadata": {
  "kernelspec": {
   "display_name": "Python 3 (ipykernel)",
   "language": "python",
   "name": "python3"
  },
  "language_info": {
   "codemirror_mode": {
    "name": "ipython",
    "version": 3
   },
   "file_extension": ".py",
   "mimetype": "text/x-python",
   "name": "python",
   "nbconvert_exporter": "python",
   "pygments_lexer": "ipython3",
   "version": "3.12.4"
  }
 },
 "nbformat": 4,
 "nbformat_minor": 5
}
