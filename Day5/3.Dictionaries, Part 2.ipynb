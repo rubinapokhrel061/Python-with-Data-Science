{
 "cells": [
  {
   "cell_type": "code",
   "execution_count": 1,
   "id": "8d565641-25a2-4031-a0b4-6659bdc6f542",
   "metadata": {},
   "outputs": [],
   "source": [
    "# Dictionaries, Part 2"
   ]
  },
  {
   "cell_type": "code",
   "execution_count": 7,
   "id": "b13610b8-d2d3-45bc-9db9-f0779eefd0c8",
   "metadata": {},
   "outputs": [
    {
     "data": {
      "text/plain": [
       "39.21"
      ]
     },
     "execution_count": 7,
     "metadata": {},
     "output_type": "execute_result"
    }
   ],
   "source": [
    "# Recap\n",
    "world ={\"nepal\":30.55,\"india\":2.77,\"algeria\":39.21}\n",
    "world[\"algeria\"]"
   ]
  },
  {
   "cell_type": "code",
   "execution_count": 13,
   "id": "ff889b43-fe55-45e2-a31c-49c873cc78e6",
   "metadata": {},
   "outputs": [
    {
     "data": {
      "text/plain": [
       "{'nepal': 30.55, 'india': 2.77, 'algeria': 32.3, 'france': 21.2}"
      ]
     },
     "execution_count": 13,
     "metadata": {},
     "output_type": "execute_result"
    }
   ],
   "source": [
    "# try add new data as same name but update not add\n",
    "# key have to be \"immutable\"->cannot be change after create objects\n",
    "world ={\"nepal\":30.55,\"india\":2.77,\"algeria\":39.21,\"algeria\":32.3,'france':21.2}\n",
    "world"
   ]
  },
  {
   "cell_type": "code",
   "execution_count": 23,
   "id": "b8287b3b-154c-4a9b-a4b4-5c6d61278d63",
   "metadata": {},
   "outputs": [
    {
     "data": {
      "text/plain": [
       "{'nepal': 30.55, 'india': 2.77, 'algeria': 32.3, 'france': 40.2}"
      ]
     },
     "execution_count": 23,
     "metadata": {},
     "output_type": "execute_result"
    }
   ],
   "source": [
    "# Updating the value for an existing key\n",
    "world['france'] = 40.2\n",
    "world"
   ]
  },
  {
   "cell_type": "code",
   "execution_count": 25,
   "id": "3857bce5-f224-4c83-a2ae-caedd0a65670",
   "metadata": {},
   "outputs": [
    {
     "name": "stdout",
     "output_type": "stream",
     "text": [
      "{'nepal': 30.55, 'india': 2.77, 'algeria': 32.3}\n"
     ]
    }
   ],
   "source": [
    "# Deleting the key 'france'\n",
    "del world['france']\n",
    "\n",
    "print(world)"
   ]
  },
  {
   "cell_type": "code",
   "execution_count": 27,
   "id": "25c8d358-2dd0-4ec1-a312-0e68a0e931d3",
   "metadata": {},
   "outputs": [],
   "source": [
    "# # Definition of dictionary\n",
    "# europe = {'spain':'madrid', 'france':'paris', 'germany':'berlin', 'norway':'oslo' }\n",
    "\n",
    "# # Add italy to europe\n",
    "# europe['italy']=\"rome\"\n",
    "\n",
    "# # Print out italy in europe\n",
    "\n",
    "# print(\"italy\" in europe)\n",
    "# # Add poland to europe\n",
    "\n",
    "# europe['poland']=\"warsaw\"\n",
    "# # Print europe\n",
    "# print(europe)"
   ]
  },
  {
   "cell_type": "code",
   "execution_count": 29,
   "id": "f38e3d2d-8ea0-49e8-b804-cbf225772870",
   "metadata": {},
   "outputs": [],
   "source": [
    "# # Definition of dictionary\n",
    "# europe = {'spain':'madrid', 'france':'paris', 'germany':'bonn',\n",
    "#           'norway':'oslo', 'italy':'rome', 'poland':'warsaw',\n",
    "#           'australia':'vienna' }\n",
    "\n",
    "# # Update capital of germany\n",
    "# europe[\"germany\"]=\"berlin\"\n",
    "\n",
    "# # Remove australia\n",
    "\n",
    "# del europe[\"australia\"]\n",
    "# # Print europe\n",
    "# print(europe)"
   ]
  },
  {
   "cell_type": "code",
   "execution_count": 31,
   "id": "64d50a58-c3fa-4ff9-8276-396ee605a0e2",
   "metadata": {},
   "outputs": [],
   "source": [
    "# # Dictionary of dictionaries\n",
    "# europe = { 'spain': { 'capital':'madrid', 'population':46.77 },\n",
    "#            'france': { 'capital':'paris', 'population':66.03 },\n",
    "#            'germany': { 'capital':'berlin', 'population':80.62 },\n",
    "#            'norway': { 'capital':'oslo', 'population':5.084 } }\n",
    "\n",
    "\n",
    "# # Print out the capital of France\n",
    "\n",
    "# print(europe[\"france\"])\n",
    "# # Create sub-dictionary data\n",
    "\n",
    "# data ={\"capital\":\"rome\",\"population\":59.83}\n",
    "# # Add data to europe under key 'italy'\n",
    "\n",
    "# europe[\"italy\"]=data\n",
    "\n",
    "# # Print europe\n",
    "# print(europe)"
   ]
  },
  {
   "cell_type": "code",
   "execution_count": null,
   "id": "0538cb02-83da-4674-b3db-5912e2324e43",
   "metadata": {},
   "outputs": [],
   "source": []
  }
 ],
 "metadata": {
  "kernelspec": {
   "display_name": "Python 3 (ipykernel)",
   "language": "python",
   "name": "python3"
  },
  "language_info": {
   "codemirror_mode": {
    "name": "ipython",
    "version": 3
   },
   "file_extension": ".py",
   "mimetype": "text/x-python",
   "name": "python",
   "nbconvert_exporter": "python",
   "pygments_lexer": "ipython3",
   "version": "3.12.4"
  }
 },
 "nbformat": 4,
 "nbformat_minor": 5
}
