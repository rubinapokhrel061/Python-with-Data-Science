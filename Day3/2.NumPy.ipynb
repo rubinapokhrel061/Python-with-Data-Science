{
 "cells": [
  {
   "cell_type": "code",
   "execution_count": 1,
   "id": "d714c37b-e2f6-4b00-bac1-80ade670b1bc",
   "metadata": {},
   "outputs": [],
   "source": [
    "# NumPy"
   ]
  },
  {
   "cell_type": "code",
   "execution_count": 3,
   "id": "60f45ce6-1b16-444c-b808-453611ba14b5",
   "metadata": {},
   "outputs": [],
   "source": [
    "# illustration\n",
    "height =[1.73,1.68,1.71,1.79]"
   ]
  },
  {
   "cell_type": "code",
   "execution_count": 5,
   "id": "d34dbdeb-3504-42a5-8a7b-4c847ab58e0d",
   "metadata": {},
   "outputs": [
    {
     "data": {
      "text/plain": [
       "[65.4, 59.2, 63.6, 88.4]"
      ]
     },
     "execution_count": 5,
     "metadata": {},
     "output_type": "execute_result"
    }
   ],
   "source": [
    "weight =[65.4,59.2,63.6,88.4]\n",
    "weight"
   ]
  },
  {
   "cell_type": "code",
   "execution_count": 7,
   "id": "c551362a-8b3b-47c9-8f1a-f8c663882752",
   "metadata": {},
   "outputs": [
    {
     "ename": "TypeError",
     "evalue": "unsupported operand type(s) for ** or pow(): 'list' and 'int'",
     "output_type": "error",
     "traceback": [
      "\u001b[1;31m---------------------------------------------------------------------------\u001b[0m",
      "\u001b[1;31mTypeError\u001b[0m                                 Traceback (most recent call last)",
      "Cell \u001b[1;32mIn[7], line 1\u001b[0m\n\u001b[1;32m----> 1\u001b[0m weight \u001b[38;5;241m/\u001b[39m height \u001b[38;5;241m*\u001b[39m\u001b[38;5;241m*\u001b[39m \u001b[38;5;241m2\u001b[39m\n",
      "\u001b[1;31mTypeError\u001b[0m: unsupported operand type(s) for ** or pow(): 'list' and 'int'"
     ]
    }
   ],
   "source": [
    "weight / height ** 2"
   ]
  },
  {
   "cell_type": "code",
   "execution_count": 33,
   "id": "d35b868d-3d37-4a0d-bb51-add679960aac",
   "metadata": {},
   "outputs": [],
   "source": [
    "#solution :Numpy\n",
    "# -Numeric python\n",
    "# -Alternative to python list :Numpy array\n",
    "# -Calculations over entire arrays\n",
    "# -Easy and Fast\n",
    "# -Installation -> pip3 install numpy or !pip install numpy"
   ]
  },
  {
   "cell_type": "code",
   "execution_count": 21,
   "id": "d38b6846-c613-4e72-83fc-126604ad284c",
   "metadata": {},
   "outputs": [
    {
     "name": "stdout",
     "output_type": "stream",
     "text": [
      "Defaulting to user installation because normal site-packages is not writeable\n",
      "Requirement already satisfied: numpy in c:\\programdata\\anaconda3\\lib\\site-packages (1.26.4)\n"
     ]
    }
   ],
   "source": [
    "!pip install numpy"
   ]
  },
  {
   "cell_type": "code",
   "execution_count": 29,
   "id": "84363ae7-de99-4aed-910e-68a6ffc5f9fe",
   "metadata": {},
   "outputs": [
    {
     "name": "stdout",
     "output_type": "stream",
     "text": [
      "<class 'numpy.ndarray'>\n"
     ]
    },
    {
     "data": {
      "text/plain": [
       "array([1.73, 1.68, 1.71, 1.79])"
      ]
     },
     "execution_count": 29,
     "metadata": {},
     "output_type": "execute_result"
    }
   ],
   "source": [
    "import numpy as np\n",
    "np_height=np.array(height)\n",
    "print(type(np_height))\n",
    "np_height"
   ]
  },
  {
   "cell_type": "code",
   "execution_count": 17,
   "id": "c87a9028-6b57-48a3-8ca4-9dc79e071944",
   "metadata": {},
   "outputs": [
    {
     "data": {
      "text/plain": [
       "array([65.4, 59.2, 63.6, 88.4])"
      ]
     },
     "execution_count": 17,
     "metadata": {},
     "output_type": "execute_result"
    }
   ],
   "source": [
    "np_weight=np.array(weight)\n",
    "np_weight"
   ]
  },
  {
   "cell_type": "code",
   "execution_count": 31,
   "id": "e87f0821-4c86-472d-8824-781c86adac57",
   "metadata": {},
   "outputs": [
    {
     "data": {
      "text/plain": [
       "array([21.85171573, 20.97505669, 21.75028214, 27.58965076])"
      ]
     },
     "execution_count": 31,
     "metadata": {},
     "output_type": "execute_result"
    }
   ],
   "source": [
    "bmi = np_weight/np_height**2\n",
    "bmi"
   ]
  },
  {
   "cell_type": "code",
   "execution_count": 39,
   "id": "9efce5d7-d5c6-4158-ab83-1ae32666ffe3",
   "metadata": {},
   "outputs": [
    {
     "data": {
      "text/plain": [
       "array(['1', 'is', 'True'], dtype='<U11')"
      ]
     },
     "execution_count": 39,
     "metadata": {},
     "output_type": "execute_result"
    }
   ],
   "source": [
    "# Numpy:remarks\n",
    "np.array([1,\"is\",True])\n",
    "# Numpy arrays contain only one type"
   ]
  },
  {
   "cell_type": "code",
   "execution_count": 43,
   "id": "74cced63-2a98-4a01-bb41-2a09e0e18e8a",
   "metadata": {},
   "outputs": [
    {
     "name": "stdout",
     "output_type": "stream",
     "text": [
      "Array: [1 2 3 4 5]\n",
      "Data type: int32\n",
      "Array: [1. 2. 3.]\n",
      "Data type: float64\n",
      "Array: ['a' 'b' 'c']\n",
      "Data type: <U1\n"
     ]
    }
   ],
   "source": [
    "# Create a NumPy array with integers\n",
    "int_array = np.array([1, 2, 3, 4, 5])\n",
    "print(\"Array:\", int_array)\n",
    "print(\"Data type:\", int_array.dtype)\n",
    "\n",
    "# Create a NumPy array with floats\n",
    "float_array = np.array([1.0, 2.0, 3.0])\n",
    "print(\"Array:\", float_array)\n",
    "print(\"Data type:\", float_array.dtype)\n",
    "\n",
    "# Create a NumPy array with a specified data type (string)\n",
    "str_array = np.array(['a', 'b', 'c'], dtype='U1')\n",
    "print(\"Array:\", str_array)\n",
    "print(\"Data type:\", str_array.dtype)"
   ]
  },
  {
   "cell_type": "code",
   "execution_count": 55,
   "id": "dd25ff9a-3028-4edf-8db9-7fff093b3b73",
   "metadata": {},
   "outputs": [
    {
     "data": {
      "text/plain": [
       "[1, 2, 3, 1, 2, 3]"
      ]
     },
     "execution_count": 55,
     "metadata": {},
     "output_type": "execute_result"
    }
   ],
   "source": [
    "# Different type:different behavior\n",
    "py_list = [1,2,3]\n",
    "numpy_array=np.array([1,2,3])\n",
    "#concatenation\n",
    "py_list +  py_list\n"
   ]
  },
  {
   "cell_type": "code",
   "execution_count": 57,
   "id": "6983e69c-1509-4c92-985d-faa6be3d9109",
   "metadata": {},
   "outputs": [
    {
     "data": {
      "text/plain": [
       "array([2, 4, 6])"
      ]
     },
     "execution_count": 57,
     "metadata": {},
     "output_type": "execute_result"
    }
   ],
   "source": [
    "#addition\n",
    "numpy_array + numpy_array"
   ]
  },
  {
   "cell_type": "code",
   "execution_count": 59,
   "id": "a050bb2e-8978-4f26-924e-37dc51944778",
   "metadata": {},
   "outputs": [
    {
     "name": "stdout",
     "output_type": "stream",
     "text": [
      "20\n",
      "[20 30 40]\n"
     ]
    }
   ],
   "source": [
    "#Numpy Subsetting\n",
    "arr = np.array([10, 20, 30, 40, 50])\n",
    "print(arr[1])      # Output: 20\n",
    "print(arr[1:4])    # Output: [20 30 40]"
   ]
  },
  {
   "cell_type": "code",
   "execution_count": 61,
   "id": "40351c52-83bd-4836-85ac-34c1af7d11bc",
   "metadata": {},
   "outputs": [
    {
     "data": {
      "text/plain": [
       "20"
      ]
     },
     "execution_count": 61,
     "metadata": {},
     "output_type": "execute_result"
    }
   ],
   "source": [
    "arr[1]"
   ]
  },
  {
   "cell_type": "code",
   "execution_count": 67,
   "id": "28a09a81-68ff-4d70-91d7-1581b3018b38",
   "metadata": {},
   "outputs": [
    {
     "data": {
      "text/plain": [
       "array([False, False,  True,  True,  True])"
      ]
     },
     "execution_count": 67,
     "metadata": {},
     "output_type": "execute_result"
    }
   ],
   "source": [
    "arr > 20"
   ]
  },
  {
   "cell_type": "code",
   "execution_count": 71,
   "id": "1bb38cea-e32b-4416-925d-7137248a11a4",
   "metadata": {},
   "outputs": [
    {
     "data": {
      "text/plain": [
       "array([30, 40, 50])"
      ]
     },
     "execution_count": 71,
     "metadata": {},
     "output_type": "execute_result"
    }
   ],
   "source": [
    "arr[arr>20]"
   ]
  },
  {
   "cell_type": "code",
   "execution_count": 82,
   "id": "cba08eea-f24c-4ba6-b807-a55c926980ca",
   "metadata": {},
   "outputs": [
    {
     "name": "stdout",
     "output_type": "stream",
     "text": [
      "[2 3 4 5]\n"
     ]
    }
   ],
   "source": [
    "# Slice elements from index 1 to index 5\n",
    "# The result includes the start index, but excludes the end index.\n",
    "arr = np.array([1, 2, 3, 4, 5, 6, 7])\n",
    "print(arr[1:5])"
   ]
  },
  {
   "cell_type": "code",
   "execution_count": 84,
   "id": "607b3d5e-6e6b-487e-9fc8-3315dca72d55",
   "metadata": {},
   "outputs": [
    {
     "name": "stdout",
     "output_type": "stream",
     "text": [
      "[5 6 7]\n"
     ]
    }
   ],
   "source": [
    "#Slice elements from index 4 to the end of the array\n",
    "print(arr[4:])"
   ]
  },
  {
   "cell_type": "code",
   "execution_count": 98,
   "id": "4c82f444-9620-4420-be99-bd484a4ec97e",
   "metadata": {},
   "outputs": [
    {
     "name": "stdout",
     "output_type": "stream",
     "text": [
      "[1 2 3 4]\n"
     ]
    }
   ],
   "source": [
    "#Slice elements from the beginning to index 4\n",
    "print(arr[:4])"
   ]
  },
  {
   "cell_type": "code",
   "execution_count": 90,
   "id": "1a86aaf8-ce40-4ea2-b0b5-2965ba1f77ce",
   "metadata": {},
   "outputs": [
    {
     "name": "stdout",
     "output_type": "stream",
     "text": [
      "[5 6]\n"
     ]
    }
   ],
   "source": [
    "#Slice from the index 3 from the end to index 1 \n",
    "arr = np.array([1, 2, 3, 4, 5, 6, 7])\n",
    "print(arr[-3:-1])"
   ]
  },
  {
   "cell_type": "code",
   "execution_count": 92,
   "id": "0ee846e8-5a13-4113-9eda-6d1ff9e4a3d2",
   "metadata": {},
   "outputs": [
    {
     "name": "stdout",
     "output_type": "stream",
     "text": [
      "[2 4]\n"
     ]
    }
   ],
   "source": [
    "# Return every other element from index 1 to index 5\n",
    "# element gap gardaii return garxa\n",
    "arr = np.array([1, 2, 3, 4, 5, 6, 7])\n",
    "print(arr[1:5:2])"
   ]
  },
  {
   "cell_type": "code",
   "execution_count": 94,
   "id": "1138a8de-9b9b-4f45-becb-482794b6893b",
   "metadata": {},
   "outputs": [
    {
     "name": "stdout",
     "output_type": "stream",
     "text": [
      "[1 3 5 7]\n"
     ]
    }
   ],
   "source": [
    "# Return every other element from the entire array\n",
    "arr = np.array([1, 2, 3, 4, 5, 6, 7])\n",
    "print(arr[::2])"
   ]
  },
  {
   "cell_type": "code",
   "execution_count": 1,
   "id": "094fb5be-e5f2-4afe-a6ef-2ffda8a6a03f",
   "metadata": {},
   "outputs": [
    {
     "name": "stdout",
     "output_type": "stream",
     "text": [
      "<class 'numpy.ndarray'>\n"
     ]
    }
   ],
   "source": [
    "# Import the numpy package as np\n",
    "import numpy as np\n",
    "\n",
    "baseball = [180, 215, 210, 210, 188, 176, 209, 200]\n",
    "\n",
    "# Create a numpy array from baseball: np_baseball\n",
    "np_baseball=np.array(baseball)\n",
    "\n",
    "# Print out type of np_baseball\n",
    "print(type(np_baseball))"
   ]
  },
  {
   "cell_type": "code",
   "execution_count": 7,
   "id": "f53ef835-7407-4877-b0f8-7233af0fbf06",
   "metadata": {},
   "outputs": [],
   "source": [
    "\n",
    "# np_weight_lb = np.array(weight_lb)\n",
    "# np_height_in = np.array(height_in)\n",
    "\n",
    "# # Print out the weight at index 50\n",
    "# print(np_weight_lb[50])\n",
    "\n",
    "# # Print out sub-array of np_height_in: index 100 up to and including index 110\n",
    "# sub_array = np_height_in[100:111] \n",
    "# print(sub_array)"
   ]
  },
  {
   "cell_type": "code",
   "execution_count": null,
   "id": "9fef7abc-44b9-47f2-b788-b5ed51e4c55a",
   "metadata": {},
   "outputs": [],
   "source": []
  }
 ],
 "metadata": {
  "kernelspec": {
   "display_name": "Python 3 (ipykernel)",
   "language": "python",
   "name": "python3"
  },
  "language_info": {
   "codemirror_mode": {
    "name": "ipython",
    "version": 3
   },
   "file_extension": ".py",
   "mimetype": "text/x-python",
   "name": "python",
   "nbconvert_exporter": "python",
   "pygments_lexer": "ipython3",
   "version": "3.12.4"
  }
 },
 "nbformat": 4,
 "nbformat_minor": 5
}
