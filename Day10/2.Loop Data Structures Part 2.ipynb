{
 "cells": [
  {
   "cell_type": "code",
   "execution_count": 1,
   "id": "a1d4c1ff-9644-4597-bbaf-0cb9cd228926",
   "metadata": {},
   "outputs": [],
   "source": [
    "# Loop Data Structures Part 2"
   ]
  },
  {
   "cell_type": "code",
   "execution_count": 13,
   "id": "09328505-9ae6-41fd-ae1e-320a4e5c54eb",
   "metadata": {},
   "outputs": [
    {
     "name": "stdout",
     "output_type": "stream",
     "text": [
      "           Country  Population           Capital\n",
      "USA  United States         331  Washington, D.C.\n",
      "CAN         Canada          38            Ottawa\n"
     ]
    }
   ],
   "source": [
    "import pandas as pd\n",
    "# Create a DataFrame\n",
    "data = {\n",
    "    'Country': ['United States', 'Canada'],\n",
    "    'Population': [331, 38, ],\n",
    "    'Capital': ['Washington, D.C.', 'Ottawa',]\n",
    "}\n",
    "# Create the DataFrame\n",
    "df = pd.DataFrame(data)\n",
    "df.index=['USA', 'CAN']\n",
    "# Save the DataFrame to a CSV file\n",
    "df.to_csv('countries.csv')\n",
    "\n",
    "# Read the CSV file into a DataFrame\n",
    "df_from_csv = pd.read_csv('countries.csv',index_col=0)\n",
    "\n",
    "# Display the DataFrame\n",
    "print(df_from_csv)"
   ]
  },
  {
   "cell_type": "code",
   "execution_count": 19,
   "id": "4a43889d-252d-4f3b-b44a-74f2b969531c",
   "metadata": {},
   "outputs": [
    {
     "name": "stdout",
     "output_type": "stream",
     "text": [
      "Country\n",
      "Population\n",
      "Capital\n"
     ]
    }
   ],
   "source": [
    "for val in df_from_csv:\n",
    "    print(val)"
   ]
  },
  {
   "cell_type": "code",
   "execution_count": 27,
   "id": "f38b5e88-fa8d-4f0b-9f17-9eab87025bf8",
   "metadata": {},
   "outputs": [
    {
     "name": "stdout",
     "output_type": "stream",
     "text": [
      "USA\n",
      "Country          United States\n",
      "Population                 331\n",
      "Capital       Washington, D.C.\n",
      "Name: USA, dtype: object\n",
      "CAN\n",
      "Country       Canada\n",
      "Population        38\n",
      "Capital       Ottawa\n",
      "Name: CAN, dtype: object\n"
     ]
    }
   ],
   "source": [
    "# iterrows\n",
    "import pandas as pd \n",
    "details= pd.read_csv('countries.csv',index_col=0)\n",
    "for label,row in details.iterrows():\n",
    "    print(label) #'USA', 'CAN'\n",
    "    print(row) #label ma vako data details"
   ]
  },
  {
   "cell_type": "code",
   "execution_count": 31,
   "id": "d393f95b-348a-4e50-90cb-f8fed39b568d",
   "metadata": {},
   "outputs": [
    {
     "name": "stdout",
     "output_type": "stream",
     "text": [
      "USA:Washington, D.C.\n",
      "CAN:Ottawa\n"
     ]
    }
   ],
   "source": [
    "# for selective print \n",
    "import pandas as pd \n",
    " \n",
    "details= pd.read_csv('countries.csv',index_col=0)\n",
    "for label,row in details.iterrows():\n",
    "    print(label+ \":\" + row[\"Capital\"])"
   ]
  },
  {
   "cell_type": "code",
   "execution_count": 51,
   "id": "a7862ec4-bed3-4422-9061-37d299e39ff2",
   "metadata": {},
   "outputs": [
    {
     "name": "stdout",
     "output_type": "stream",
     "text": [
      "           Country  Population           Capital  name_length\n",
      "USA  United States         331  Washington, D.C.         13.0\n",
      "CAN         Canada          38            Ottawa          NaN\n",
      "           Country  Population           Capital  name_length\n",
      "USA  United States         331  Washington, D.C.         13.0\n",
      "CAN         Canada          38            Ottawa          6.0\n"
     ]
    }
   ],
   "source": [
    "# add column\n",
    "import pandas as pd \n",
    "details= pd.read_csv('countries.csv',index_col=0)\n",
    "for label,row in details.iterrows():\n",
    "   # creating series on every iteration\n",
    "    details.loc[label,\"name_length\"]= len(row[\"Country\"])\n",
    "    print(details)"
   ]
  },
  {
   "cell_type": "code",
   "execution_count": 49,
   "id": "0a4f8f35-d367-4ab0-90ef-0db41c0a5afe",
   "metadata": {},
   "outputs": [
    {
     "name": "stdout",
     "output_type": "stream",
     "text": [
      "           Country  Population           Capital  name_length\n",
      "USA  United States         331  Washington, D.C.           13\n",
      "CAN         Canada          38            Ottawa            6\n"
     ]
    }
   ],
   "source": [
    "# better approach use apply\n",
    "import pandas as pd \n",
    "details= pd.read_csv('countries.csv',index_col=0)\n",
    "details[\"name_length\"]= details[\"Country\"].apply(len)\n",
    "print(details)"
   ]
  },
  {
   "cell_type": "code",
   "execution_count": 53,
   "id": "dac1a9b6-496f-4c6f-b3e6-e33b04935ca5",
   "metadata": {},
   "outputs": [],
   "source": [
    "# # Import cars data\n",
    "# import pandas as pd\n",
    "# cars = pd.read_csv('cars.csv', index_col = 0)\n",
    "\n",
    "# # Iterate over rows of cars\n",
    "# for label ,row in cars.iterrows():\n",
    "#     print(label)\n",
    "#     print(row)"
   ]
  },
  {
   "cell_type": "code",
   "execution_count": 55,
   "id": "7e096c1e-0e5a-4292-84ed-c5c7142fa324",
   "metadata": {},
   "outputs": [],
   "source": [
    "# # Import cars data\n",
    "# import pandas as pd\n",
    "# cars = pd.read_csv('cars.csv', index_col = 0)\n",
    "\n",
    "# # Adapt for loop\n",
    "# for lab, row in cars.iterrows() :\n",
    "#     # print(lab)\n",
    "#     # print(row)\n",
    "#   print(lab+ \": \" + str(row[\"cars_per_cap\"]))\n",
    "   "
   ]
  },
  {
   "cell_type": "code",
   "execution_count": 57,
   "id": "87262ecb-e81b-4a2d-b166-2aff75803343",
   "metadata": {},
   "outputs": [],
   "source": [
    "# # Import cars data\n",
    "# import pandas as pd\n",
    "# cars = pd.read_csv('cars.csv', index_col = 0)\n",
    "\n",
    "# # Code for loop that adds COUNTRY column\n",
    "\n",
    "# for label,row in cars.iterrows():\n",
    "  \n",
    "#     cars.loc[label,\"COUNTRY\"]= row[\"country\"].upper()\n",
    "    \n",
    "\n",
    "# # Print cars\n",
    "# print(cars)"
   ]
  },
  {
   "cell_type": "code",
   "execution_count": 59,
   "id": "f7c371d8-a528-4564-8ef8-288c01d775bc",
   "metadata": {},
   "outputs": [],
   "source": [
    "# # Import cars data\n",
    "# import pandas as pd\n",
    "# cars = pd.read_csv('cars.csv', index_col = 0)\n",
    "\n",
    "# # Use.apply(str.upper)\n",
    "\n",
    "# cars['COUNTRY'] = cars['country'].apply(str.upper)\n",
    "# print(cars)"
   ]
  },
  {
   "cell_type": "code",
   "execution_count": null,
   "id": "1603750a-c923-40a0-aa32-0a17d92537c2",
   "metadata": {},
   "outputs": [],
   "source": []
  }
 ],
 "metadata": {
  "kernelspec": {
   "display_name": "Python 3 (ipykernel)",
   "language": "python",
   "name": "python3"
  },
  "language_info": {
   "codemirror_mode": {
    "name": "ipython",
    "version": 3
   },
   "file_extension": ".py",
   "mimetype": "text/x-python",
   "name": "python",
   "nbconvert_exporter": "python",
   "pygments_lexer": "ipython3",
   "version": "3.12.4"
  }
 },
 "nbformat": 4,
 "nbformat_minor": 5
}
