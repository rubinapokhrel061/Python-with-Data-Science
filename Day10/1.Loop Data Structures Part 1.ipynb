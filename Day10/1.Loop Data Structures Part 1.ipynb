{
 "cells": [
  {
   "cell_type": "code",
   "execution_count": 1,
   "id": "c2579daf-2202-4523-a0ba-be9af3aa80b9",
   "metadata": {},
   "outputs": [],
   "source": [
    "# Loop Data Structures Part 1"
   ]
  },
  {
   "cell_type": "code",
   "execution_count": 3,
   "id": "d27c7576-d4d4-4f29-9abf-d997f66047ab",
   "metadata": {},
   "outputs": [
    {
     "ename": "ValueError",
     "evalue": "too many values to unpack (expected 2)",
     "output_type": "error",
     "traceback": [
      "\u001b[1;31m---------------------------------------------------------------------------\u001b[0m",
      "\u001b[1;31mValueError\u001b[0m                                Traceback (most recent call last)",
      "Cell \u001b[1;32mIn[3], line 4\u001b[0m\n\u001b[0;32m      1\u001b[0m \u001b[38;5;66;03m# Dictionary\u001b[39;00m\n\u001b[0;32m      2\u001b[0m \u001b[38;5;66;03m# for var in seq : expression\u001b[39;00m\n\u001b[0;32m      3\u001b[0m world \u001b[38;5;241m=\u001b[39m{\u001b[38;5;124m\"\u001b[39m\u001b[38;5;124mnepal\u001b[39m\u001b[38;5;124m\"\u001b[39m:\u001b[38;5;241m32\u001b[39m,\u001b[38;5;124m\"\u001b[39m\u001b[38;5;124malgeria\u001b[39m\u001b[38;5;124m\"\u001b[39m:\u001b[38;5;241m23\u001b[39m,\u001b[38;5;124m\"\u001b[39m\u001b[38;5;124mIndia\u001b[39m\u001b[38;5;124m\"\u001b[39m:\u001b[38;5;241m35\u001b[39m}\n\u001b[1;32m----> 4\u001b[0m \u001b[38;5;28;01mfor\u001b[39;00m key,value \u001b[38;5;129;01min\u001b[39;00m world :\n\u001b[0;32m      5\u001b[0m     \u001b[38;5;28mprint\u001b[39m(key \u001b[38;5;241m+\u001b[39m \u001b[38;5;124m\"\u001b[39m\u001b[38;5;124m--\u001b[39m\u001b[38;5;124m\"\u001b[39m \u001b[38;5;241m+\u001b[39m \u001b[38;5;28mstr\u001b[39m(value))\n",
      "\u001b[1;31mValueError\u001b[0m: too many values to unpack (expected 2)"
     ]
    }
   ],
   "source": [
    "# Dictionary\n",
    "# for var in seq : expression\n",
    "world ={\"nepal\":32,\"algeria\":23,\"India\":35}\n",
    "for key,value in world :\n",
    "    print(key + \"--\" + str(value))"
   ]
  },
  {
   "cell_type": "code",
   "execution_count": 5,
   "id": "06f47fa1-f07b-4224-a5f7-6b8b81b9b4ad",
   "metadata": {},
   "outputs": [
    {
     "name": "stdout",
     "output_type": "stream",
     "text": [
      "nepal--32\n",
      "algeria--23\n",
      "India--35\n"
     ]
    }
   ],
   "source": [
    "# alternative correct way\n",
    "world ={\"nepal\":32,\"algeria\":23,\"India\":35}\n",
    "for key,value in world.items() :\n",
    "    print(key + \"--\" + str(value))"
   ]
  },
  {
   "cell_type": "code",
   "execution_count": 9,
   "id": "f6e7b0ee-f75a-4d4f-9210-8110896ac185",
   "metadata": {},
   "outputs": [],
   "source": [
    "# Numpy Arrays\n",
    "# syntax: for var in seq: expression"
   ]
  },
  {
   "cell_type": "code",
   "execution_count": 13,
   "id": "7eae6196-c103-43dc-bd58-e3526590e421",
   "metadata": {},
   "outputs": [
    {
     "name": "stdout",
     "output_type": "stream",
     "text": [
      "5.255771993718467\n",
      "5.555555555555556\n",
      "5.030607708354708\n",
      "5.008258447411887\n",
      "4.303860678505664\n"
     ]
    }
   ],
   "source": [
    "import numpy as np\n",
    "np_height =np.array([1.73,1.68,1.71,1.89,1.79])\n",
    "np_weight =np.array([15.73,15.68,14.71,17.89,13.79])\n",
    "bmi =np_weight /np_height ** 2\n",
    "for val in bmi :\n",
    "    print(val)"
   ]
  },
  {
   "cell_type": "code",
   "execution_count": 15,
   "id": "42e034b0-784d-4253-8e04-bcbceec518bb",
   "metadata": {},
   "outputs": [
    {
     "name": "stdout",
     "output_type": "stream",
     "text": [
      "[15.73 15.68 14.71 17.89 13.79]\n",
      "[1.73 1.68 1.71 1.89 1.79]\n"
     ]
    }
   ],
   "source": [
    "# 2D Numpy Arrays\n",
    "import numpy as np\n",
    "np_height =np.array([1.73,1.68,1.71,1.89,1.79])\n",
    "np_weight =np.array([15.73,15.68,14.71,17.89,13.79])\n",
    "bmi =np.array([np_weight ,np_height])\n",
    "for val in bmi :\n",
    "    print(val)"
   ]
  },
  {
   "cell_type": "code",
   "execution_count": 17,
   "id": "e31a57b9-3f07-4231-a14f-b22382afa921",
   "metadata": {},
   "outputs": [
    {
     "name": "stdout",
     "output_type": "stream",
     "text": [
      "15.73\n",
      "15.68\n",
      "14.71\n",
      "17.89\n",
      "13.79\n",
      "1.73\n",
      "1.68\n",
      "1.71\n",
      "1.89\n",
      "1.79\n"
     ]
    }
   ],
   "source": [
    "# to get every element in an array\n",
    "import numpy as np\n",
    "np_height =np.array([1.73,1.68,1.71,1.89,1.79])\n",
    "np_weight =np.array([15.73,15.68,14.71,17.89,13.79])\n",
    "combine_array =np.array([np_weight ,np_height])\n",
    "for val in np.nditer(combine_array):\n",
    "    print(val)"
   ]
  },
  {
   "cell_type": "code",
   "execution_count": 19,
   "id": "e2aa2777-dbcf-4184-a367-97ed3352820f",
   "metadata": {},
   "outputs": [],
   "source": [
    "# recap\n",
    "# . dictionary -> for key,val in my_dict.items():\n",
    "# .Numpy array -> for val in np.nditer(my_array):"
   ]
  },
  {
   "cell_type": "code",
   "execution_count": 21,
   "id": "7d079b02-e203-498b-b539-3e5ee5543a66",
   "metadata": {},
   "outputs": [
    {
     "name": "stdout",
     "output_type": "stream",
     "text": [
      "the capital of spain is madrid\n",
      "the capital of france is paris\n",
      "the capital of germany is berlin\n",
      "the capital of norway is oslo\n",
      "the capital of italy is rome\n",
      "the capital of poland is warsaw\n",
      "the capital of austria is vienna\n"
     ]
    }
   ],
   "source": [
    "# Definition of dictionary\n",
    "europe = {'spain':'madrid', 'france':'paris', 'germany':'berlin',\n",
    "          'norway':'oslo', 'italy':'rome', 'poland':'warsaw', 'austria':'vienna' }\n",
    "          \n",
    "# Iterate over europe\n",
    "for x,y in europe.items():\n",
    "    print(\"the capital of \"+ x +\" is \" +y)"
   ]
  },
  {
   "cell_type": "code",
   "execution_count": 27,
   "id": "4e0e52e9-1adf-42c6-936d-51efb9af5ccc",
   "metadata": {},
   "outputs": [],
   "source": [
    "# # Import numpy as np\n",
    "# import numpy as np\n",
    "\n",
    "# # For loop over np_height\n",
    "# for x in np.nditer(np_height):\n",
    "#     print( str(x) + \" inches\")\n",
    "\n",
    "# # For loop over np_baseball\n",
    "# for x in np.nditer(np_baseball):\n",
    "#     print(x)"
   ]
  },
  {
   "cell_type": "code",
   "execution_count": null,
   "id": "8e0b9830-5a1f-4aed-bda2-1907ab59cc52",
   "metadata": {},
   "outputs": [],
   "source": []
  }
 ],
 "metadata": {
  "kernelspec": {
   "display_name": "Python 3 (ipykernel)",
   "language": "python",
   "name": "python3"
  },
  "language_info": {
   "codemirror_mode": {
    "name": "ipython",
    "version": 3
   },
   "file_extension": ".py",
   "mimetype": "text/x-python",
   "name": "python",
   "nbconvert_exporter": "python",
   "pygments_lexer": "ipython3",
   "version": "3.12.4"
  }
 },
 "nbformat": 4,
 "nbformat_minor": 5
}
