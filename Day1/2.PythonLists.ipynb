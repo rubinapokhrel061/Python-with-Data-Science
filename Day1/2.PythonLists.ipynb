{
 "cells": [
  {
   "cell_type": "code",
   "execution_count": null,
   "id": "d0b2f71a-13ae-491b-9a00-029bdc6a8008",
   "metadata": {},
   "outputs": [],
   "source": [
    "#Python lists"
   ]
  },
  {
   "cell_type": "code",
   "execution_count": 3,
   "id": "af490d78-c89e-4a1e-903e-5d15a6cda8be",
   "metadata": {},
   "outputs": [],
   "source": [
    "#python Data types\n",
    "#float -Real numbers\n",
    "#int -integer numbers\n",
    "#str -string,text\n",
    "#bool -True,false\n",
    "\n",
    "\n",
    "#Each variable represents single value \n",
    "#problem\n",
    "#Data Science have many data points\n",
    "#like \n",
    "# A1=2\n",
    "# A2=4\n",
    "# A3=5 ......many more which is incovenient \n",
    "\n",
    "# so introduce Python lists\n",
    "# [2,4,5] ->is called collection of values.It contain any type &contain differnt types "
   ]
  },
  {
   "cell_type": "code",
   "execution_count": 11,
   "id": "8e119306-4c9e-454a-831c-1f446e5c79aa",
   "metadata": {},
   "outputs": [
    {
     "data": {
      "text/plain": [
       "['ruby', 19, 'sirju', 23, 'sita', 20]"
      ]
     },
     "execution_count": 11,
     "metadata": {},
     "output_type": "execute_result"
    }
   ],
   "source": [
    "collection1 =[\"ruby\",19,\"sirju\",23,\"sita\",20]\n",
    "collection1"
   ]
  },
  {
   "cell_type": "code",
   "execution_count": 13,
   "id": "4fffe7af-3e09-4543-bf7b-636b1ce52f4b",
   "metadata": {},
   "outputs": [
    {
     "data": {
      "text/plain": [
       "[['ruby', 19], ['sirju', 23], ['sita', 20]]"
      ]
     },
     "execution_count": 13,
     "metadata": {},
     "output_type": "execute_result"
    }
   ],
   "source": [
    "collection2 =[[\"ruby\",19],[\"sirju\",23],[\"sita\",20]]\n",
    "collection2"
   ]
  },
  {
   "cell_type": "code",
   "execution_count": 15,
   "id": "12247a73-65fa-48dc-a64f-7b4cbcecbf08",
   "metadata": {},
   "outputs": [
    {
     "data": {
      "text/plain": [
       "list"
      ]
     },
     "execution_count": 15,
     "metadata": {},
     "output_type": "execute_result"
    }
   ],
   "source": [
    "type(collection1)"
   ]
  },
  {
   "cell_type": "code",
   "execution_count": 19,
   "id": "8e8d399b-0f47-44e4-89f0-74f116177d22",
   "metadata": {},
   "outputs": [
    {
     "data": {
      "text/plain": [
       "list"
      ]
     },
     "execution_count": 19,
     "metadata": {},
     "output_type": "execute_result"
    }
   ],
   "source": [
    "type(collection2)"
   ]
  },
  {
   "cell_type": "code",
   "execution_count": null,
   "id": "cfd0b770-9097-438e-9d62-e860cbf50983",
   "metadata": {},
   "outputs": [],
   "source": []
  }
 ],
 "metadata": {
  "kernelspec": {
   "display_name": "Python 3 (ipykernel)",
   "language": "python",
   "name": "python3"
  },
  "language_info": {
   "codemirror_mode": {
    "name": "ipython",
    "version": 3
   },
   "file_extension": ".py",
   "mimetype": "text/x-python",
   "name": "python",
   "nbconvert_exporter": "python",
   "pygments_lexer": "ipython3",
   "version": "3.12.4"
  }
 },
 "nbformat": 4,
 "nbformat_minor": 5
}
