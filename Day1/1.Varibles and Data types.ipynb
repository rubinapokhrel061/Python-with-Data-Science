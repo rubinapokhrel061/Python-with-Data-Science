{
 "cells": [
  {
   "cell_type": "code",
   "execution_count": 1,
   "id": "f7dfbd70-19ac-4006-8d39-c261b1ff4ce3",
   "metadata": {},
   "outputs": [],
   "source": [
    "#Varibles and Data types"
   ]
  },
  {
   "cell_type": "code",
   "execution_count": 2,
   "id": "663bb545-7781-44ae-8741-9a1aee876b25",
   "metadata": {},
   "outputs": [
    {
     "data": {
      "text/plain": [
       "2"
      ]
     },
     "execution_count": 2,
     "metadata": {},
     "output_type": "execute_result"
    }
   ],
   "source": [
    "#integer\n",
    "\n",
    "height=2\n",
    "weight =3\n",
    "height\n"
   ]
  },
  {
   "cell_type": "code",
   "execution_count": 3,
   "id": "4eb6cfa7-8a20-4385-a20a-5a09971db3c7",
   "metadata": {},
   "outputs": [
    {
     "data": {
      "text/plain": [
       "0.75"
      ]
     },
     "execution_count": 3,
     "metadata": {},
     "output_type": "execute_result"
    }
   ],
   "source": [
    "#float\n",
    "\n",
    "BIM=weight /height **2\n",
    "BIM"
   ]
  },
  {
   "cell_type": "code",
   "execution_count": 4,
   "id": "e9016537-f06f-420c-b9d4-eba2bead0284",
   "metadata": {},
   "outputs": [
    {
     "name": "stdout",
     "output_type": "stream",
     "text": [
      "0.75\n"
     ]
    }
   ],
   "source": [
    "# BIM and print(BIM) both use  for display data\n",
    "\n",
    "print(BIM)"
   ]
  },
  {
   "cell_type": "code",
   "execution_count": 5,
   "id": "9ee83b06-4ad6-4f6b-a9c1-c6848b218556",
   "metadata": {},
   "outputs": [
    {
     "data": {
      "text/plain": [
       "float"
      ]
     },
     "execution_count": 5,
     "metadata": {},
     "output_type": "execute_result"
    }
   ],
   "source": [
    "#check data type\n",
    "type(BIM)"
   ]
  },
  {
   "cell_type": "code",
   "execution_count": 6,
   "id": "17f85bdf-9f97-4e63-bde6-e153f6f83258",
   "metadata": {},
   "outputs": [
    {
     "data": {
      "text/plain": [
       "int"
      ]
     },
     "execution_count": 6,
     "metadata": {},
     "output_type": "execute_result"
    }
   ],
   "source": [
    "type(height)"
   ]
  },
  {
   "cell_type": "code",
   "execution_count": 7,
   "id": "21d0882b-43dc-4355-a16e-aac3c5380b71",
   "metadata": {},
   "outputs": [
    {
     "data": {
      "text/plain": [
       "str"
      ]
     },
     "execution_count": 7,
     "metadata": {},
     "output_type": "execute_result"
    }
   ],
   "source": [
    "#string\n",
    "#use single and double quotes\n",
    "x=\"rubina\"\n",
    "y='pokhrel'\n",
    "type(y)"
   ]
  },
  {
   "cell_type": "code",
   "execution_count": 8,
   "id": "f91399f8-f2c2-4562-a18f-1c975cd0008b",
   "metadata": {},
   "outputs": [
    {
     "data": {
      "text/plain": [
       "bool"
      ]
     },
     "execution_count": 8,
     "metadata": {},
     "output_type": "execute_result"
    }
   ],
   "source": [
    "#boolean\n",
    "A=True\n",
    "type(A)"
   ]
  },
  {
   "cell_type": "code",
   "execution_count": 9,
   "id": "4afef3d9-23b6-4b34-aa55-5f6564157786",
   "metadata": {},
   "outputs": [
    {
     "data": {
      "text/plain": [
       "5"
      ]
     },
     "execution_count": 9,
     "metadata": {},
     "output_type": "execute_result"
    }
   ],
   "source": [
    "#Differnt Type =differnt behavior\n",
    "2+3"
   ]
  },
  {
   "cell_type": "code",
   "execution_count": 10,
   "id": "3b76d38e-2fcb-4196-b9b1-3b1c14ed43ec",
   "metadata": {},
   "outputs": [
    {
     "data": {
      "text/plain": [
       "'ruby'"
      ]
     },
     "execution_count": 10,
     "metadata": {},
     "output_type": "execute_result"
    }
   ],
   "source": [
    "'ru'+'by'"
   ]
  },
  {
   "cell_type": "code",
   "execution_count": null,
   "id": "81eb6f2d-2303-4a1f-b9ef-2d9869c6488d",
   "metadata": {},
   "outputs": [],
   "source": []
  }
 ],
 "metadata": {
  "kernelspec": {
   "display_name": "Python 3 (ipykernel)",
   "language": "python",
   "name": "python3"
  },
  "language_info": {
   "codemirror_mode": {
    "name": "ipython",
    "version": 3
   },
   "file_extension": ".py",
   "mimetype": "text/x-python",
   "name": "python",
   "nbconvert_exporter": "python",
   "pygments_lexer": "ipython3",
   "version": "3.12.4"
  }
 },
 "nbformat": 4,
 "nbformat_minor": 5
}
