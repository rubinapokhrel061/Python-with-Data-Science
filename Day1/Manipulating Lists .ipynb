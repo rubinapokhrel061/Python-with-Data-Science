{
 "cells": [
  {
   "cell_type": "code",
   "execution_count": 1,
   "id": "3625a0b3-aaa2-4b6a-b66a-18f0137173b4",
   "metadata": {},
   "outputs": [],
   "source": [
    "#Manipulating Lists\n",
    "# change list elements\n",
    "# Add list elements\n",
    "# Remove List elements"
   ]
  },
  {
   "cell_type": "code",
   "execution_count": 12,
   "id": "797d9105-599d-4b50-9697-ef16f7806243",
   "metadata": {},
   "outputs": [
    {
     "data": {
      "text/plain": [
       "['ruby', 19, 'sirju', 23, 'sita', 20]"
      ]
     },
     "execution_count": 12,
     "metadata": {},
     "output_type": "execute_result"
    }
   ],
   "source": [
    "#Changing list element \n",
    "collection =[\"ruby\",19,\"sirju\",23,\"sita\",20]\n",
    "collection"
   ]
  },
  {
   "cell_type": "code",
   "execution_count": 14,
   "id": "cfc49486-fc00-4475-b521-da9e7603c438",
   "metadata": {},
   "outputs": [
    {
     "data": {
      "text/plain": [
       "['ruby', 19, 'rita', 23, 'sita', 20]"
      ]
     },
     "execution_count": 14,
     "metadata": {},
     "output_type": "execute_result"
    }
   ],
   "source": [
    "collection[2]='rita'\n",
    "collection"
   ]
  },
  {
   "cell_type": "code",
   "execution_count": 16,
   "id": "71429f42-4ac7-45ec-9865-d5e963366a0c",
   "metadata": {},
   "outputs": [
    {
     "data": {
      "text/plain": [
       "['arun', 25, 'rita', 23, 'sita', 20]"
      ]
     },
     "execution_count": 16,
     "metadata": {},
     "output_type": "execute_result"
    }
   ],
   "source": [
    "collection[0:2]=['arun',25]\n",
    "collection"
   ]
  },
  {
   "cell_type": "code",
   "execution_count": 18,
   "id": "4e2c7ebc-4d28-4362-a631-b3cbea812ab8",
   "metadata": {},
   "outputs": [],
   "source": [
    "#Adding and removing element "
   ]
  },
  {
   "cell_type": "code",
   "execution_count": 22,
   "id": "5716764c-170a-426c-9af6-19b9121d46f8",
   "metadata": {},
   "outputs": [
    {
     "data": {
      "text/plain": [
       "['arun', 25, 'rita', 23, 'sita', 20, 'manu', 22]"
      ]
     },
     "execution_count": 22,
     "metadata": {},
     "output_type": "execute_result"
    }
   ],
   "source": [
    "#add\n",
    "collection + ['manu',22]"
   ]
  },
  {
   "cell_type": "code",
   "execution_count": 26,
   "id": "7ca53e57-09b8-4845-b0a1-0def55328030",
   "metadata": {},
   "outputs": [
    {
     "data": {
      "text/plain": [
       "['arun', 23, 'sita', 20]"
      ]
     },
     "execution_count": 26,
     "metadata": {},
     "output_type": "execute_result"
    }
   ],
   "source": [
    "#delete\n",
    "del collection[1]\n",
    "collection"
   ]
  },
  {
   "cell_type": "code",
   "execution_count": 28,
   "id": "4c368e7c-e0ab-4be4-8e24-01388c716ae9",
   "metadata": {},
   "outputs": [
    {
     "data": {
      "text/plain": [
       "['a', 2, 'c']"
      ]
     },
     "execution_count": 28,
     "metadata": {},
     "output_type": "execute_result"
    }
   ],
   "source": [
    "#case1\n",
    "x=[\"a\",\"b\",\"c\"]\n",
    "y=x\n",
    "y[1]=2\n",
    "y"
   ]
  },
  {
   "cell_type": "code",
   "execution_count": 30,
   "id": "11f0759b-8e00-4448-be0c-1c9f5444ab2e",
   "metadata": {},
   "outputs": [
    {
     "data": {
      "text/plain": [
       "['a', 2, 'c']"
      ]
     },
     "execution_count": 30,
     "metadata": {},
     "output_type": "execute_result"
    }
   ],
   "source": [
    "x"
   ]
  },
  {
   "cell_type": "code",
   "execution_count": 38,
   "id": "394944aa-38d2-4c7c-9e51-fdcc2ddf515e",
   "metadata": {},
   "outputs": [
    {
     "data": {
      "text/plain": [
       "['a', 'b', 'c']"
      ]
     },
     "execution_count": 38,
     "metadata": {},
     "output_type": "execute_result"
    }
   ],
   "source": [
    "# case2\n",
    "x1=[\"a\",\"b\",\"c\"]\n",
    "y1=list(x1)\n",
    "y1=x1[:]\n",
    "y1[1]=2\n",
    "x"
   ]
  },
  {
   "cell_type": "code",
   "execution_count": null,
   "id": "e24848e0-5f91-4b63-9270-87eac79d1aaa",
   "metadata": {},
   "outputs": [],
   "source": []
  }
 ],
 "metadata": {
  "kernelspec": {
   "display_name": "Python 3 (ipykernel)",
   "language": "python",
   "name": "python3"
  },
  "language_info": {
   "codemirror_mode": {
    "name": "ipython",
    "version": 3
   },
   "file_extension": ".py",
   "mimetype": "text/x-python",
   "name": "python",
   "nbconvert_exporter": "python",
   "pygments_lexer": "ipython3",
   "version": "3.12.4"
  }
 },
 "nbformat": 4,
 "nbformat_minor": 5
}
