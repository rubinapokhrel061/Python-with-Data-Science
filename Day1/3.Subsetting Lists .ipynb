{
 "cells": [
  {
   "cell_type": "code",
   "execution_count": 1,
   "id": "26f5ba74-8ac4-4d24-a58e-5d7cdd6a49aa",
   "metadata": {},
   "outputs": [],
   "source": [
    "#Subsetting Lists"
   ]
  },
  {
   "cell_type": "code",
   "execution_count": 9,
   "id": "1903f493-9053-4fce-9c2d-08b87a0a28d3",
   "metadata": {},
   "outputs": [
    {
     "data": {
      "text/plain": [
       "['ruby', 19, 'sirju', 2, 'sita', 20]"
      ]
     },
     "execution_count": 9,
     "metadata": {},
     "output_type": "execute_result"
    }
   ],
   "source": [
    "collection =[\"ruby\",19,\"sirju\",2,\"sita\",20]\n",
    "collection"
   ]
  },
  {
   "cell_type": "code",
   "execution_count": 5,
   "id": "8430154d-5c93-4b8d-ad3d-91c2fdf968fe",
   "metadata": {},
   "outputs": [],
   "source": [
    "#Subsetting Lists is a smaller list contain some components of  first list"
   ]
  },
  {
   "cell_type": "code",
   "execution_count": 11,
   "id": "c4018a1b-153c-41e1-9a5c-dc1efe0af93c",
   "metadata": {},
   "outputs": [
    {
     "data": {
      "text/plain": [
       "2"
      ]
     },
     "execution_count": 11,
     "metadata": {},
     "output_type": "execute_result"
    }
   ],
   "source": [
    "collection[3]"
   ]
  },
  {
   "cell_type": "code",
   "execution_count": 13,
   "id": "a1a41067-829c-4639-b627-8f78cd8ab487",
   "metadata": {},
   "outputs": [
    {
     "data": {
      "text/plain": [
       "20"
      ]
     },
     "execution_count": 13,
     "metadata": {},
     "output_type": "execute_result"
    }
   ],
   "source": [
    "#last element\n",
    "collection[-1]"
   ]
  },
  {
   "cell_type": "code",
   "execution_count": 15,
   "id": "676c6798-f70a-4fcb-a8db-321008c92216",
   "metadata": {},
   "outputs": [
    {
     "data": {
      "text/plain": [
       "['sirju', 2]"
      ]
     },
     "execution_count": 15,
     "metadata": {},
     "output_type": "execute_result"
    }
   ],
   "source": [
    "#specific range\n",
    "collection[2:4] #[start:end]"
   ]
  },
  {
   "cell_type": "code",
   "execution_count": 17,
   "id": "bbca42d4-c948-4086-88bd-cec520925f07",
   "metadata": {},
   "outputs": [
    {
     "data": {
      "text/plain": [
       "['ruby', 19, 'sirju', 2]"
      ]
     },
     "execution_count": 17,
     "metadata": {},
     "output_type": "execute_result"
    }
   ],
   "source": [
    "#starting first element to specific element\n",
    "collection[:4] #0123"
   ]
  },
  {
   "cell_type": "code",
   "execution_count": 21,
   "id": "efebe888-5e8e-4d0a-b074-c69930c0058e",
   "metadata": {},
   "outputs": [
    {
     "data": {
      "text/plain": [
       "[2, 'sita', 20]"
      ]
     },
     "execution_count": 21,
     "metadata": {},
     "output_type": "execute_result"
    }
   ],
   "source": [
    "#starting specific element to last element\n",
    "collection[3:]"
   ]
  },
  {
   "cell_type": "code",
   "execution_count": null,
   "id": "c1f35b23-5166-4ecc-9408-0e3996ceb45d",
   "metadata": {},
   "outputs": [],
   "source": []
  }
 ],
 "metadata": {
  "kernelspec": {
   "display_name": "Python 3 (ipykernel)",
   "language": "python",
   "name": "python3"
  },
  "language_info": {
   "codemirror_mode": {
    "name": "ipython",
    "version": 3
   },
   "file_extension": ".py",
   "mimetype": "text/x-python",
   "name": "python",
   "nbconvert_exporter": "python",
   "pygments_lexer": "ipython3",
   "version": "3.12.4"
  }
 },
 "nbformat": 4,
 "nbformat_minor": 5
}
