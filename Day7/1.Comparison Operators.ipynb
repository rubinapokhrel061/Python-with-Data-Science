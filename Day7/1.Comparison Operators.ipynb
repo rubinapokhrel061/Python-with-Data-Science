{
 "cells": [
  {
   "cell_type": "code",
   "execution_count": 1,
   "id": "517e3b33-962a-4f47-9f5d-7eff4d91e85c",
   "metadata": {},
   "outputs": [],
   "source": [
    "# Comparison Operators"
   ]
  },
  {
   "cell_type": "code",
   "execution_count": 7,
   "id": "99fce4d1-8311-4c50-9777-5b6d3c6d08b7",
   "metadata": {},
   "outputs": [
    {
     "data": {
      "text/plain": [
       "array([18.51047479,  6.45446777,  5.09925332,  8.16348893,  4.62857143,\n",
       "        3.14272212,  1.3568298 ])"
      ]
     },
     "execution_count": 7,
     "metadata": {},
     "output_type": "execute_result"
    }
   ],
   "source": [
    "# numpy recap\n",
    "import numpy as np\n",
    "np_height = np.array([1.73, 2.56, 3.23, 2.34, 3.5, 4.6, 7.4])\n",
    "np_weight=np.array([55.4, 42.3, 53.2, 44.7, 56.7, 66.5, 74.3])\n",
    "bmi=np_weight /np_height ** 2\n",
    "bmi"
   ]
  },
  {
   "cell_type": "code",
   "execution_count": 9,
   "id": "b37fd66e-fdaf-4f34-9e52-2b5e24368da6",
   "metadata": {},
   "outputs": [
    {
     "data": {
      "text/plain": [
       "array([False, False, False, False, False, False, False])"
      ]
     },
     "execution_count": 9,
     "metadata": {},
     "output_type": "execute_result"
    }
   ],
   "source": [
    "bmi>23"
   ]
  },
  {
   "cell_type": "code",
   "execution_count": 17,
   "id": "8b8c1078-960d-4531-b3e2-7ae5c0dac748",
   "metadata": {},
   "outputs": [
    {
     "data": {
      "text/plain": [
       "array([18.51047479,  6.45446777,  8.16348893])"
      ]
     },
     "execution_count": 17,
     "metadata": {},
     "output_type": "execute_result"
    }
   ],
   "source": [
    "bmi[bmi>6]"
   ]
  },
  {
   "cell_type": "code",
   "execution_count": 19,
   "id": "48cbb894-7c85-46cb-9148-cd0765907d4d",
   "metadata": {},
   "outputs": [
    {
     "data": {
      "text/plain": [
       "True"
      ]
     },
     "execution_count": 19,
     "metadata": {},
     "output_type": "execute_result"
    }
   ],
   "source": [
    "# Numeric Comparisons\n",
    "2<3"
   ]
  },
  {
   "cell_type": "code",
   "execution_count": 21,
   "id": "1fb01241-8ad8-403f-8783-b0c999c4d017",
   "metadata": {},
   "outputs": [
    {
     "data": {
      "text/plain": [
       "False"
      ]
     },
     "execution_count": 21,
     "metadata": {},
     "output_type": "execute_result"
    }
   ],
   "source": [
    "4==3"
   ]
  },
  {
   "cell_type": "code",
   "execution_count": 23,
   "id": "2c583ee6-445a-4846-afb2-718b16704b90",
   "metadata": {},
   "outputs": [
    {
     "data": {
      "text/plain": [
       "True"
      ]
     },
     "execution_count": 23,
     "metadata": {},
     "output_type": "execute_result"
    }
   ],
   "source": [
    "2<=3"
   ]
  },
  {
   "cell_type": "code",
   "execution_count": 25,
   "id": "62a28c53-3337-48b6-8323-d167bb9fbca7",
   "metadata": {},
   "outputs": [
    {
     "data": {
      "text/plain": [
       "True"
      ]
     },
     "execution_count": 25,
     "metadata": {},
     "output_type": "execute_result"
    }
   ],
   "source": [
    "3<=3"
   ]
  },
  {
   "cell_type": "code",
   "execution_count": 27,
   "id": "a369e0b1-7b60-4b1c-b7fb-935078d38c9a",
   "metadata": {},
   "outputs": [
    {
     "data": {
      "text/plain": [
       "True"
      ]
     },
     "execution_count": 27,
     "metadata": {},
     "output_type": "execute_result"
    }
   ],
   "source": [
    "x=3\n",
    "y=4\n",
    "x<y"
   ]
  },
  {
   "cell_type": "code",
   "execution_count": 31,
   "id": "979fcf47-d665-4e00-b157-5615771526d9",
   "metadata": {},
   "outputs": [
    {
     "data": {
      "text/plain": [
       "True"
      ]
     },
     "execution_count": 31,
     "metadata": {},
     "output_type": "execute_result"
    }
   ],
   "source": [
    "# other comparisons\n",
    "\"carl\"<\"chris\""
   ]
  },
  {
   "cell_type": "code",
   "execution_count": 35,
   "id": "f5682c0c-6f6f-40c0-ba85-851405805236",
   "metadata": {},
   "outputs": [
    {
     "ename": "TypeError",
     "evalue": "'<' not supported between instances of 'int' and 'str'",
     "output_type": "error",
     "traceback": [
      "\u001b[1;31m---------------------------------------------------------------------------\u001b[0m",
      "\u001b[1;31mTypeError\u001b[0m                                 Traceback (most recent call last)",
      "Cell \u001b[1;32mIn[35], line 1\u001b[0m\n\u001b[1;32m----> 1\u001b[0m \u001b[38;5;241m2\u001b[39m\u001b[38;5;241m<\u001b[39m\u001b[38;5;124m\"\u001b[39m\u001b[38;5;124mcarl\u001b[39m\u001b[38;5;124m\"\u001b[39m\n",
      "\u001b[1;31mTypeError\u001b[0m: '<' not supported between instances of 'int' and 'str'"
     ]
    }
   ],
   "source": [
    "# comparison between integer and string\n",
    "2<\"carl\""
   ]
  },
  {
   "cell_type": "code",
   "execution_count": 39,
   "id": "df165e40-386a-4341-b14b-a7a27662d3d5",
   "metadata": {},
   "outputs": [
    {
     "data": {
      "text/plain": [
       "True"
      ]
     },
     "execution_count": 39,
     "metadata": {},
     "output_type": "execute_result"
    }
   ],
   "source": [
    "# comparison between integer and float\n",
    "3<4.1"
   ]
  },
  {
   "cell_type": "code",
   "execution_count": 41,
   "id": "576f41d2-b0c8-4daa-92de-48bf9d89f750",
   "metadata": {},
   "outputs": [
    {
     "data": {
      "text/plain": [
       "array([ True, False, False,  True, False, False, False])"
      ]
     },
     "execution_count": 41,
     "metadata": {},
     "output_type": "execute_result"
    }
   ],
   "source": [
    "bmi>8"
   ]
  },
  {
   "cell_type": "code",
   "execution_count": 43,
   "id": "7fe6c862-d76f-463d-be20-b72e0dc8d01f",
   "metadata": {},
   "outputs": [
    {
     "data": {
      "text/plain": [
       "True"
      ]
     },
     "execution_count": 43,
     "metadata": {},
     "output_type": "execute_result"
    }
   ],
   "source": [
    "# Comparison of booleans\n",
    "True==False\n",
    "\n",
    "# Comparison of integers\n",
    "(-5*15) != 75\n",
    "\n",
    "# Comparison of strings\n",
    "\"pyscript\"==\"PyScript\"\n",
    "\n",
    "# Compare a boolean with an integer\n",
    "1==True"
   ]
  },
  {
   "cell_type": "code",
   "execution_count": 45,
   "id": "3a959cf0-b84a-4f55-b996-6cb0deb05fdd",
   "metadata": {},
   "outputs": [
    {
     "data": {
      "text/plain": [
       "True"
      ]
     },
     "execution_count": 45,
     "metadata": {},
     "output_type": "execute_result"
    }
   ],
   "source": [
    "# Comparison of integers\n",
    "x = -3 * 6\n",
    "x>=-10\n",
    "# Comparison of strings\n",
    "y = \"test\"\n",
    "\"test\"<=y\n",
    "\n",
    "# Comparison of booleans\n",
    "True >False"
   ]
  },
  {
   "cell_type": "code",
   "execution_count": 47,
   "id": "918493d1-bc43-4949-b983-a2e1013ae29d",
   "metadata": {},
   "outputs": [
    {
     "name": "stdout",
     "output_type": "stream",
     "text": [
      "[ True  True False False]\n",
      "[False  True  True False]\n"
     ]
    }
   ],
   "source": [
    "# Create arrays\n",
    "import numpy as np\n",
    "my_house = np.array([18.0, 20.0, 10.75, 9.50])\n",
    "your_house = np.array([14.0, 24.0, 14.25, 9.0])\n",
    "\n",
    "# my_house greater than or equal to 18\n",
    "print(my_house>=18)\n",
    "\n",
    "# my_house less than your_house\n",
    "print(my_house<your_house)"
   ]
  },
  {
   "cell_type": "code",
   "execution_count": null,
   "id": "4ca4dd89-8a12-42a7-a5f2-712700a4538a",
   "metadata": {},
   "outputs": [],
   "source": []
  }
 ],
 "metadata": {
  "kernelspec": {
   "display_name": "Python 3 (ipykernel)",
   "language": "python",
   "name": "python3"
  },
  "language_info": {
   "codemirror_mode": {
    "name": "ipython",
    "version": 3
   },
   "file_extension": ".py",
   "mimetype": "text/x-python",
   "name": "python",
   "nbconvert_exporter": "python",
   "pygments_lexer": "ipython3",
   "version": "3.12.4"
  }
 },
 "nbformat": 4,
 "nbformat_minor": 5
}
