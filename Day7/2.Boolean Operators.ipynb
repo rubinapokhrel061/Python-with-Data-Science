{
 "cells": [
  {
   "cell_type": "code",
   "execution_count": 1,
   "id": "800e2107-0432-4c10-a84b-ef6034949e40",
   "metadata": {},
   "outputs": [],
   "source": [
    "# Boolean Operators\n"
   ]
  },
  {
   "cell_type": "code",
   "execution_count": 9,
   "id": "346a3dc1-7337-4d45-85cd-5d825a6d7e1f",
   "metadata": {},
   "outputs": [
    {
     "name": "stdout",
     "output_type": "stream",
     "text": [
      "True\n",
      "False\n",
      "False\n",
      "False\n"
     ]
    }
   ],
   "source": [
    "# And operator\n",
    "print(True and True)\n",
    "print(False and True)\n",
    "print(True and False)\n",
    "print(False and False)"
   ]
  },
  {
   "cell_type": "code",
   "execution_count": 11,
   "id": "f0db1c9c-e855-4899-8014-c86c16bf300d",
   "metadata": {},
   "outputs": [
    {
     "data": {
      "text/plain": [
       "True"
      ]
     },
     "execution_count": 11,
     "metadata": {},
     "output_type": "execute_result"
    }
   ],
   "source": [
    "x=12\n",
    "x>5 and x<15\n",
    "# True    True"
   ]
  },
  {
   "cell_type": "code",
   "execution_count": 13,
   "id": "5a7028f8-80a5-4ee4-b20e-2de04267aa37",
   "metadata": {},
   "outputs": [
    {
     "name": "stdout",
     "output_type": "stream",
     "text": [
      "True\n",
      "True\n",
      "True\n",
      "False\n"
     ]
    }
   ],
   "source": [
    "# Or operator\n",
    "print(True or True)\n",
    "print(False or True)\n",
    "print(True or False)\n",
    "print(False or False)"
   ]
  },
  {
   "cell_type": "code",
   "execution_count": 17,
   "id": "19d3866e-4433-4f54-ba7d-48f0db57a3e9",
   "metadata": {},
   "outputs": [
    {
     "data": {
      "text/plain": [
       "True"
      ]
     },
     "execution_count": 17,
     "metadata": {},
     "output_type": "execute_result"
    }
   ],
   "source": [
    "x=12\n",
    "x<5 or x>10"
   ]
  },
  {
   "cell_type": "code",
   "execution_count": 19,
   "id": "899c77c7-7134-434e-9869-398a2c7f44db",
   "metadata": {},
   "outputs": [
    {
     "name": "stdout",
     "output_type": "stream",
     "text": [
      "False\n",
      "True\n"
     ]
    }
   ],
   "source": [
    "# Not operators\n",
    "print(not True)\n",
    "print(not False)"
   ]
  },
  {
   "cell_type": "code",
   "execution_count": 21,
   "id": "ea384d66-bfda-440b-ab88-48ac997ab5d2",
   "metadata": {},
   "outputs": [
    {
     "data": {
      "text/plain": [
       "array([18.51047479,  6.45446777,  5.09925332,  8.16348893,  4.62857143,\n",
       "        3.14272212,  1.3568298 ])"
      ]
     },
     "execution_count": 21,
     "metadata": {},
     "output_type": "execute_result"
    }
   ],
   "source": [
    "# But in case of Numpy array\n",
    "import numpy as np\n",
    "np_height = np.array([1.73, 2.56, 3.23, 2.34, 3.5, 4.6, 7.4])\n",
    "np_weight=np.array([55.4, 42.3, 53.2, 44.7, 56.7, 66.5, 74.3])\n",
    "bmi=np_weight /np_height ** 2\n",
    "bmi"
   ]
  },
  {
   "cell_type": "code",
   "execution_count": 23,
   "id": "e283d873-7494-4e2d-ae0f-47f3673a1841",
   "metadata": {},
   "outputs": [
    {
     "data": {
      "text/plain": [
       "array([ True,  True, False,  True, False, False, False])"
      ]
     },
     "execution_count": 23,
     "metadata": {},
     "output_type": "execute_result"
    }
   ],
   "source": [
    "bmi>6"
   ]
  },
  {
   "cell_type": "code",
   "execution_count": 25,
   "id": "aa47ae50-7116-4ffa-9f8e-499053dc6f04",
   "metadata": {},
   "outputs": [
    {
     "data": {
      "text/plain": [
       "array([False,  True,  True,  True,  True,  True,  True])"
      ]
     },
     "execution_count": 25,
     "metadata": {},
     "output_type": "execute_result"
    }
   ],
   "source": [
    "bmi<12"
   ]
  },
  {
   "cell_type": "code",
   "execution_count": 27,
   "id": "22924750-56ce-4aca-a0f0-1c19fb800c8c",
   "metadata": {},
   "outputs": [
    {
     "ename": "ValueError",
     "evalue": "The truth value of an array with more than one element is ambiguous. Use a.any() or a.all()",
     "output_type": "error",
     "traceback": [
      "\u001b[1;31m---------------------------------------------------------------------------\u001b[0m",
      "\u001b[1;31mValueError\u001b[0m                                Traceback (most recent call last)",
      "Cell \u001b[1;32mIn[27], line 1\u001b[0m\n\u001b[1;32m----> 1\u001b[0m bmi\u001b[38;5;241m>\u001b[39m\u001b[38;5;241m6\u001b[39m \u001b[38;5;129;01mand\u001b[39;00m bmi\u001b[38;5;241m<\u001b[39m\u001b[38;5;241m12\u001b[39m\n",
      "\u001b[1;31mValueError\u001b[0m: The truth value of an array with more than one element is ambiguous. Use a.any() or a.all()"
     ]
    }
   ],
   "source": [
    "bmi>6 and bmi<12"
   ]
  },
  {
   "cell_type": "code",
   "execution_count": 29,
   "id": "f15f2823-13fc-4be6-b56b-be9941a8a366",
   "metadata": {},
   "outputs": [],
   "source": [
    "# In Numpy we use \n",
    "# logical_and()\n",
    "# logical_or()\n",
    "# logical_not()\n"
   ]
  },
  {
   "cell_type": "code",
   "execution_count": 39,
   "id": "d0f11a87-4f84-431c-a251-1c5ac8d7f090",
   "metadata": {},
   "outputs": [
    {
     "name": "stdout",
     "output_type": "stream",
     "text": [
      "[False  True False  True False False False]\n",
      "[6.45446777 8.16348893]\n"
     ]
    }
   ],
   "source": [
    "print(np.logical_and(bmi>6, bmi<12))\n",
    "print(bmi[np.logical_and(bmi>6, bmi<12)])"
   ]
  },
  {
   "cell_type": "code",
   "execution_count": 41,
   "id": "8527c75e-62d5-499a-bfdd-1345ae5f15af",
   "metadata": {},
   "outputs": [
    {
     "name": "stdout",
     "output_type": "stream",
     "text": [
      "[False  True False  True]\n",
      "[False False False  True]\n"
     ]
    }
   ],
   "source": [
    "## Create arrays\n",
    "import numpy as np\n",
    "my_house = np.array([18.0, 20.0, 10.75, 9.50])\n",
    "your_house = np.array([14.0, 24.0, 14.25, 9.0])\n",
    "\n",
    "# my_house greater than 18.5 or smaller than 10\n",
    "print(np.logical_or(my_house >18.5 , my_house <10))\n",
    "\n",
    "# Both my_house and your_house smaller than 11\n",
    "print(np.logical_and(my_house < 11, your_house < 11))"
   ]
  },
  {
   "cell_type": "code",
   "execution_count": 43,
   "id": "5a47b7d2-8c7f-4928-a190-f4ef4b4e76d3",
   "metadata": {},
   "outputs": [
    {
     "name": "stdout",
     "output_type": "stream",
     "text": [
      "False\n",
      "True\n",
      "True\n"
     ]
    }
   ],
   "source": [
    "# Define variables\n",
    "my_kitchen = 18.0\n",
    "your_kitchen = 14.0\n",
    "\n",
    "# my_kitchen bigger than 10 and smaller than 18?\n",
    "print(my_kitchen>10 and my_kitchen<18)\n",
    "\n",
    "# my_kitchen smaller than 14 or bigger than 17?\n",
    "print(my_kitchen<14 or my_kitchen>17)\n",
    "\n",
    "# Double my_kitchen smaller than triple your_kitchen?\n",
    "print(my_kitchen*2<3*your_kitchen)"
   ]
  },
  {
   "cell_type": "code",
   "execution_count": null,
   "id": "e1f8f3de-3f55-4508-9d5a-5b2381678987",
   "metadata": {},
   "outputs": [],
   "source": []
  }
 ],
 "metadata": {
  "kernelspec": {
   "display_name": "Python 3 (ipykernel)",
   "language": "python",
   "name": "python3"
  },
  "language_info": {
   "codemirror_mode": {
    "name": "ipython",
    "version": 3
   },
   "file_extension": ".py",
   "mimetype": "text/x-python",
   "name": "python",
   "nbconvert_exporter": "python",
   "pygments_lexer": "ipython3",
   "version": "3.12.4"
  }
 },
 "nbformat": 4,
 "nbformat_minor": 5
}
