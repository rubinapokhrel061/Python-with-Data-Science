{
 "cells": [
  {
   "cell_type": "code",
   "execution_count": 1,
   "id": "d40d5c56-2959-4f33-8ce3-61fb4198c8d7",
   "metadata": {},
   "outputs": [],
   "source": [
    "# Filtering pandas DataFrames\n",
    "# select countries with area over 8 million km\n",
    "# 3 steps\n",
    "# 1.select the area column\n",
    "# 2.Do comparison on area column\n",
    "# 3.use result to select countries"
   ]
  },
  {
   "cell_type": "code",
   "execution_count": 5,
   "id": "af5e766a-35e5-494e-aa61-c79189e1ecbd",
   "metadata": {},
   "outputs": [
    {
     "name": "stdout",
     "output_type": "stream",
     "text": [
      "0     8.560\n",
      "1    17.100\n",
      "2     3.284\n",
      "3     9.340\n",
      "4     1.260\n",
      "Name: area, dtype: float64\n"
     ]
    }
   ],
   "source": [
    "import pandas as pd\n",
    "\n",
    "# Create a dictionary with country names, populations in millions, and capitals\n",
    "data = {\n",
    "    'Country': ['USA', 'Canada', 'Germany', 'Brazil', 'Japan'],\n",
    "     'area': [8.56, 17.10, 3.284, 9.34, 1.26 ],\n",
    "    'Population': [331, 38, 84, 213, 126],\n",
    "    'Capital': ['Washington', 'Ottawa', 'Berlin', 'Brasília', 'Tokyo']\n",
    "}\n",
    "\n",
    "# Create the DataFrame\n",
    "brics = pd.DataFrame(data)\n",
    "\n",
    "# Display the DataFrame\n",
    "print(brics[\"area\"])"
   ]
  },
  {
   "cell_type": "code",
   "execution_count": 7,
   "id": "2c94ec54-78da-48b2-b6cd-06689146f093",
   "metadata": {},
   "outputs": [
    {
     "data": {
      "text/plain": [
       "0     8.560\n",
       "1    17.100\n",
       "2     3.284\n",
       "3     9.340\n",
       "4     1.260\n",
       "Name: area, dtype: float64"
      ]
     },
     "execution_count": 7,
     "metadata": {},
     "output_type": "execute_result"
    }
   ],
   "source": [
    "# alternative\n",
    "brics.loc[:,\"area\"]"
   ]
  },
  {
   "cell_type": "code",
   "execution_count": 13,
   "id": "d0a1d0f3-079a-49ae-91a8-36a6f261982b",
   "metadata": {},
   "outputs": [
    {
     "data": {
      "text/plain": [
       "0     8.560\n",
       "1    17.100\n",
       "2     3.284\n",
       "3     9.340\n",
       "4     1.260\n",
       "Name: area, dtype: float64"
      ]
     },
     "execution_count": 13,
     "metadata": {},
     "output_type": "execute_result"
    }
   ],
   "source": [
    "brics.iloc[:,1]"
   ]
  },
  {
   "cell_type": "code",
   "execution_count": 19,
   "id": "31325e9c-4a15-4a09-82b0-7f24aaa99990",
   "metadata": {},
   "outputs": [],
   "source": [
    "# step 2 : compare\n",
    "is_huge=brics[\"area\"] > 8"
   ]
  },
  {
   "cell_type": "code",
   "execution_count": 21,
   "id": "b5fed917-308c-423e-9c96-01aed7418055",
   "metadata": {},
   "outputs": [
    {
     "data": {
      "text/plain": [
       "0     True\n",
       "1     True\n",
       "2    False\n",
       "3     True\n",
       "4    False\n",
       "Name: area, dtype: bool"
      ]
     },
     "execution_count": 21,
     "metadata": {},
     "output_type": "execute_result"
    }
   ],
   "source": [
    "# step 3: Subset Df\n",
    "is_huge"
   ]
  },
  {
   "cell_type": "code",
   "execution_count": 23,
   "id": "83bde3a6-27c4-4e38-a964-2fa7da085b7b",
   "metadata": {},
   "outputs": [
    {
     "data": {
      "text/html": [
       "<div>\n",
       "<style scoped>\n",
       "    .dataframe tbody tr th:only-of-type {\n",
       "        vertical-align: middle;\n",
       "    }\n",
       "\n",
       "    .dataframe tbody tr th {\n",
       "        vertical-align: top;\n",
       "    }\n",
       "\n",
       "    .dataframe thead th {\n",
       "        text-align: right;\n",
       "    }\n",
       "</style>\n",
       "<table border=\"1\" class=\"dataframe\">\n",
       "  <thead>\n",
       "    <tr style=\"text-align: right;\">\n",
       "      <th></th>\n",
       "      <th>Country</th>\n",
       "      <th>area</th>\n",
       "      <th>Population</th>\n",
       "      <th>Capital</th>\n",
       "    </tr>\n",
       "  </thead>\n",
       "  <tbody>\n",
       "    <tr>\n",
       "      <th>0</th>\n",
       "      <td>USA</td>\n",
       "      <td>8.56</td>\n",
       "      <td>331</td>\n",
       "      <td>Washington</td>\n",
       "    </tr>\n",
       "    <tr>\n",
       "      <th>1</th>\n",
       "      <td>Canada</td>\n",
       "      <td>17.10</td>\n",
       "      <td>38</td>\n",
       "      <td>Ottawa</td>\n",
       "    </tr>\n",
       "    <tr>\n",
       "      <th>3</th>\n",
       "      <td>Brazil</td>\n",
       "      <td>9.34</td>\n",
       "      <td>213</td>\n",
       "      <td>Brasília</td>\n",
       "    </tr>\n",
       "  </tbody>\n",
       "</table>\n",
       "</div>"
      ],
      "text/plain": [
       "  Country   area  Population     Capital\n",
       "0     USA   8.56         331  Washington\n",
       "1  Canada  17.10          38      Ottawa\n",
       "3  Brazil   9.34         213    Brasília"
      ]
     },
     "execution_count": 23,
     "metadata": {},
     "output_type": "execute_result"
    }
   ],
   "source": [
    "brics[is_huge]"
   ]
  },
  {
   "cell_type": "code",
   "execution_count": 25,
   "id": "1344ce7c-9123-4b12-ae6d-14fb32e49b26",
   "metadata": {},
   "outputs": [
    {
     "data": {
      "text/html": [
       "<div>\n",
       "<style scoped>\n",
       "    .dataframe tbody tr th:only-of-type {\n",
       "        vertical-align: middle;\n",
       "    }\n",
       "\n",
       "    .dataframe tbody tr th {\n",
       "        vertical-align: top;\n",
       "    }\n",
       "\n",
       "    .dataframe thead th {\n",
       "        text-align: right;\n",
       "    }\n",
       "</style>\n",
       "<table border=\"1\" class=\"dataframe\">\n",
       "  <thead>\n",
       "    <tr style=\"text-align: right;\">\n",
       "      <th></th>\n",
       "      <th>Country</th>\n",
       "      <th>area</th>\n",
       "      <th>Population</th>\n",
       "      <th>Capital</th>\n",
       "    </tr>\n",
       "  </thead>\n",
       "  <tbody>\n",
       "    <tr>\n",
       "      <th>0</th>\n",
       "      <td>USA</td>\n",
       "      <td>8.56</td>\n",
       "      <td>331</td>\n",
       "      <td>Washington</td>\n",
       "    </tr>\n",
       "    <tr>\n",
       "      <th>1</th>\n",
       "      <td>Canada</td>\n",
       "      <td>17.10</td>\n",
       "      <td>38</td>\n",
       "      <td>Ottawa</td>\n",
       "    </tr>\n",
       "    <tr>\n",
       "      <th>3</th>\n",
       "      <td>Brazil</td>\n",
       "      <td>9.34</td>\n",
       "      <td>213</td>\n",
       "      <td>Brasília</td>\n",
       "    </tr>\n",
       "  </tbody>\n",
       "</table>\n",
       "</div>"
      ],
      "text/plain": [
       "  Country   area  Population     Capital\n",
       "0     USA   8.56         331  Washington\n",
       "1  Canada  17.10          38      Ottawa\n",
       "3  Brazil   9.34         213    Brasília"
      ]
     },
     "execution_count": 25,
     "metadata": {},
     "output_type": "execute_result"
    }
   ],
   "source": [
    "is_huge=brics[\"area\"] > 8\n",
    "brics[is_huge]\n"
   ]
  },
  {
   "cell_type": "code",
   "execution_count": 27,
   "id": "c6bf5f9c-fbe8-48d8-977e-fbf99f948f31",
   "metadata": {},
   "outputs": [
    {
     "data": {
      "text/html": [
       "<div>\n",
       "<style scoped>\n",
       "    .dataframe tbody tr th:only-of-type {\n",
       "        vertical-align: middle;\n",
       "    }\n",
       "\n",
       "    .dataframe tbody tr th {\n",
       "        vertical-align: top;\n",
       "    }\n",
       "\n",
       "    .dataframe thead th {\n",
       "        text-align: right;\n",
       "    }\n",
       "</style>\n",
       "<table border=\"1\" class=\"dataframe\">\n",
       "  <thead>\n",
       "    <tr style=\"text-align: right;\">\n",
       "      <th></th>\n",
       "      <th>Country</th>\n",
       "      <th>area</th>\n",
       "      <th>Population</th>\n",
       "      <th>Capital</th>\n",
       "    </tr>\n",
       "  </thead>\n",
       "  <tbody>\n",
       "    <tr>\n",
       "      <th>0</th>\n",
       "      <td>USA</td>\n",
       "      <td>8.56</td>\n",
       "      <td>331</td>\n",
       "      <td>Washington</td>\n",
       "    </tr>\n",
       "    <tr>\n",
       "      <th>1</th>\n",
       "      <td>Canada</td>\n",
       "      <td>17.10</td>\n",
       "      <td>38</td>\n",
       "      <td>Ottawa</td>\n",
       "    </tr>\n",
       "    <tr>\n",
       "      <th>3</th>\n",
       "      <td>Brazil</td>\n",
       "      <td>9.34</td>\n",
       "      <td>213</td>\n",
       "      <td>Brasília</td>\n",
       "    </tr>\n",
       "  </tbody>\n",
       "</table>\n",
       "</div>"
      ],
      "text/plain": [
       "  Country   area  Population     Capital\n",
       "0     USA   8.56         331  Washington\n",
       "1  Canada  17.10          38      Ottawa\n",
       "3  Brazil   9.34         213    Brasília"
      ]
     },
     "execution_count": 27,
     "metadata": {},
     "output_type": "execute_result"
    }
   ],
   "source": [
    "brics[brics[\"area\"] > 8]"
   ]
  },
  {
   "cell_type": "code",
   "execution_count": 33,
   "id": "fd8bff52-4ca3-4348-a7be-c61749a2b1de",
   "metadata": {},
   "outputs": [
    {
     "data": {
      "text/plain": [
       "0     True\n",
       "1    False\n",
       "2    False\n",
       "3     True\n",
       "4    False\n",
       "Name: area, dtype: bool"
      ]
     },
     "execution_count": 33,
     "metadata": {},
     "output_type": "execute_result"
    }
   ],
   "source": [
    "# boolean operators\n",
    "import numpy as np\n",
    "np.logical_and(brics[\"area\"]>8,brics[\"area\"]<10)\n"
   ]
  },
  {
   "cell_type": "code",
   "execution_count": 35,
   "id": "71e174fd-a525-4963-928e-f9a25247b575",
   "metadata": {},
   "outputs": [
    {
     "data": {
      "text/html": [
       "<div>\n",
       "<style scoped>\n",
       "    .dataframe tbody tr th:only-of-type {\n",
       "        vertical-align: middle;\n",
       "    }\n",
       "\n",
       "    .dataframe tbody tr th {\n",
       "        vertical-align: top;\n",
       "    }\n",
       "\n",
       "    .dataframe thead th {\n",
       "        text-align: right;\n",
       "    }\n",
       "</style>\n",
       "<table border=\"1\" class=\"dataframe\">\n",
       "  <thead>\n",
       "    <tr style=\"text-align: right;\">\n",
       "      <th></th>\n",
       "      <th>Country</th>\n",
       "      <th>area</th>\n",
       "      <th>Population</th>\n",
       "      <th>Capital</th>\n",
       "    </tr>\n",
       "  </thead>\n",
       "  <tbody>\n",
       "    <tr>\n",
       "      <th>0</th>\n",
       "      <td>USA</td>\n",
       "      <td>8.56</td>\n",
       "      <td>331</td>\n",
       "      <td>Washington</td>\n",
       "    </tr>\n",
       "    <tr>\n",
       "      <th>3</th>\n",
       "      <td>Brazil</td>\n",
       "      <td>9.34</td>\n",
       "      <td>213</td>\n",
       "      <td>Brasília</td>\n",
       "    </tr>\n",
       "  </tbody>\n",
       "</table>\n",
       "</div>"
      ],
      "text/plain": [
       "  Country  area  Population     Capital\n",
       "0     USA  8.56         331  Washington\n",
       "3  Brazil  9.34         213    Brasília"
      ]
     },
     "execution_count": 35,
     "metadata": {},
     "output_type": "execute_result"
    }
   ],
   "source": [
    "brics[np.logical_and(brics[\"area\"]>8,brics[\"area\"]<10)]"
   ]
  },
  {
   "cell_type": "code",
   "execution_count": 39,
   "id": "5bdd417d-76ee-4987-b06b-eeb4798c6c7a",
   "metadata": {},
   "outputs": [],
   "source": [
    "# # Import cars data\n",
    "# import pandas as pd\n",
    "# cars = pd.read_csv('cars.csv', index_col = 0)\n",
    "\n",
    "# # Extract drives_right column as Series: dr\n",
    "# dr=cars[\"drives_right\"]\n",
    "\n",
    "# # Use dr to subset cars: sel\n",
    "# sel = cars[dr]\n",
    "\n",
    "# # Print sel\n",
    "# print(sel)"
   ]
  },
  {
   "cell_type": "code",
   "execution_count": 41,
   "id": "d93d7b1a-acd1-4f54-9102-85e434329ffd",
   "metadata": {},
   "outputs": [],
   "source": [
    "# # Import cars data\n",
    "# import pandas as pd\n",
    "# cars = pd.read_csv('cars.csv', index_col = 0)\n",
    "\n",
    "# # Convert code to a one-liner\n",
    "# # dr = cars['drives_right']\n",
    "# # sel = cars[dr]\n",
    "# sel = cars[cars['drives_right']]\n",
    "# # Print sel\n",
    "# print(sel)"
   ]
  },
  {
   "cell_type": "code",
   "execution_count": 45,
   "id": "3caa5d98-d78a-48f9-b058-c913e0ac17c2",
   "metadata": {},
   "outputs": [],
   "source": [
    "# # Import cars data\n",
    "# import pandas as pd\n",
    "# cars = pd.read_csv('cars.csv', index_col = 0)\n",
    "\n",
    "# # Create car_maniac: observations that have a cars_per_cap over 500\n",
    "# cpc = cars['cars_per_cap']\n",
    "# many_cars = cpc > 500\n",
    "\n",
    "# car_maniac = cars[many_cars]\n",
    "# # Print car_maniac\n",
    "# print(car_maniac)"
   ]
  },
  {
   "cell_type": "code",
   "execution_count": 49,
   "id": "d51295c2-2758-4229-b404-a365c8f00b4d",
   "metadata": {},
   "outputs": [],
   "source": [
    "# # Import cars data\n",
    "# import pandas as pd\n",
    "# cars = pd.read_csv('cars.csv', index_col = 0)\n",
    "\n",
    "# # Import numpy, you'll need this\n",
    "# import numpy as np\n",
    "\n",
    "# # Create medium: observations with cars_per_cap between 100 and 500\n",
    "\n",
    "# medium = cars[(cars['cars_per_cap'] >= 100) & (cars['cars_per_cap'] <= 500)]\n",
    "\n",
    "\n",
    "# # Print medium\n",
    "# print(medium)"
   ]
  },
  {
   "cell_type": "code",
   "execution_count": null,
   "id": "20531c13-1f18-4868-a0dd-4962bad2b72b",
   "metadata": {},
   "outputs": [],
   "source": []
  }
 ],
 "metadata": {
  "kernelspec": {
   "display_name": "Python 3 (ipykernel)",
   "language": "python",
   "name": "python3"
  },
  "language_info": {
   "codemirror_mode": {
    "name": "ipython",
    "version": 3
   },
   "file_extension": ".py",
   "mimetype": "text/x-python",
   "name": "python",
   "nbconvert_exporter": "python",
   "pygments_lexer": "ipython3",
   "version": "3.12.4"
  }
 },
 "nbformat": 4,
 "nbformat_minor": 5
}
