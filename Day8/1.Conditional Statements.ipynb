{
 "cells": [
  {
   "cell_type": "code",
   "execution_count": 3,
   "id": "c8830102-9ee5-4635-9704-19adb4ef1f6f",
   "metadata": {},
   "outputs": [],
   "source": [
    "# Conditional Statement\n",
    "# if, elif, else"
   ]
  },
  {
   "cell_type": "code",
   "execution_count": 9,
   "id": "d4157b45-bd63-48d0-9b72-af8dc4731932",
   "metadata": {},
   "outputs": [
    {
     "name": "stdout",
     "output_type": "stream",
     "text": [
      "checking4\n",
      "z is even\n"
     ]
    }
   ],
   "source": [
    "# if \n",
    "# syntax:if condition : expression\n",
    "z=4\n",
    "if z%2 ==0:\n",
    "    print(\"checking\" + str(z))\n",
    "    print(\"z is even\")"
   ]
  },
  {
   "cell_type": "code",
   "execution_count": 13,
   "id": "dff12365-ff29-49a8-a1cd-9b3fe536140c",
   "metadata": {},
   "outputs": [],
   "source": [
    "# if the condition doesn't pass then expression is not execute\n",
    "z=5\n",
    "if z%2 ==0:\n",
    "    print(\"checking\" + str(z))\n",
    "    print(\"z is even\")"
   ]
  },
  {
   "cell_type": "code",
   "execution_count": 11,
   "id": "519a3070-2a02-48ec-ae63-41910d961fca",
   "metadata": {},
   "outputs": [
    {
     "name": "stdout",
     "output_type": "stream",
     "text": [
      "z is even\n"
     ]
    }
   ],
   "source": [
    "# else\n",
    "# syntax: if condition : expression else : expression\n",
    "z=5\n",
    "if z%2 ==0: #False\n",
    "    print(\"z is even\")\n",
    "else :\n",
    "    print(\"z is even\")"
   ]
  },
  {
   "cell_type": "code",
   "execution_count": 15,
   "id": "564200f6-ae71-42a2-b900-17a64d45b9c4",
   "metadata": {},
   "outputs": [
    {
     "name": "stdout",
     "output_type": "stream",
     "text": [
      "z is divisible by 5\n"
     ]
    }
   ],
   "source": [
    "# elif\n",
    "# syntax: if condition : expression elif condition : expression else : expression\n",
    "z=5\n",
    "if z%2 ==0 : \n",
    "    print(\"z is divisible by 2\") #False\n",
    "elif z%5 ==0 :\n",
    "    print(\"z is divisible by 5\") #True\n",
    "else :\n",
    "    print(\"z is neither divisible by 2 nor by 5\")"
   ]
  },
  {
   "cell_type": "code",
   "execution_count": 17,
   "id": "65dc709c-734e-4058-9da4-560725dd8afa",
   "metadata": {},
   "outputs": [
    {
     "name": "stdout",
     "output_type": "stream",
     "text": [
      "looking around in the kitchen.\n"
     ]
    }
   ],
   "source": [
    "# Define variables\n",
    "room = \"kit\"\n",
    "area = 14.0\n",
    "\n",
    "# if statement for room\n",
    "if room == \"kit\" :\n",
    "    print(\"looking around in the kitchen.\")\n",
    "\n",
    "# if statement for area\n",
    "if area>15:\n",
    "    print(\"big place!\")\n"
   ]
  },
  {
   "cell_type": "code",
   "execution_count": 19,
   "id": "facfc08b-c0ea-4d65-be20-d98c7535a2e7",
   "metadata": {},
   "outputs": [
    {
     "name": "stdout",
     "output_type": "stream",
     "text": [
      "looking around in the kitchen.\n",
      "pretty small.\n"
     ]
    }
   ],
   "source": [
    "# Define variables\n",
    "room = \"kit\"\n",
    "area = 14.0\n",
    "\n",
    "# if-else construct for room\n",
    "if room == \"kit\" :\n",
    "    print(\"looking around in the kitchen.\")\n",
    "else :\n",
    "    print(\"looking around elsewhere.\")\n",
    "\n",
    "# if-else construct for area\n",
    "if area > 15 :\n",
    "    print(\"big place!\")\n",
    "else :\n",
    "    print(\"pretty small.\")"
   ]
  },
  {
   "cell_type": "code",
   "execution_count": 21,
   "id": "dd9fdfa1-83cd-4f31-9f93-b2f0dd77998a",
   "metadata": {},
   "outputs": [
    {
     "name": "stdout",
     "output_type": "stream",
     "text": [
      "looking around in the bedroom.\n",
      "medium size, nice!\n"
     ]
    }
   ],
   "source": [
    "# Define variables\n",
    "room = \"bed\"\n",
    "area = 14.0\n",
    "\n",
    "# if-elif-else construct for room\n",
    "if room == \"kit\" :\n",
    "    print(\"looking around in the kitchen.\")\n",
    "elif room == \"bed\":\n",
    "    print(\"looking around in the bedroom.\")\n",
    "else :\n",
    "    print(\"looking around elsewhere.\")\n",
    "\n",
    "# if-elif-else construct for area\n",
    "if area > 15 :\n",
    "    print(\"big place!\")\n",
    "elif area >10 :\n",
    "    print(\"medium size, nice!\")\n",
    "else :\n",
    "    print(\"pretty small.\")"
   ]
  },
  {
   "cell_type": "code",
   "execution_count": null,
   "id": "b5573977-6233-4c68-ace2-c2925c7c7135",
   "metadata": {},
   "outputs": [],
   "source": []
  }
 ],
 "metadata": {
  "kernelspec": {
   "display_name": "Python 3 (ipykernel)",
   "language": "python",
   "name": "python3"
  },
  "language_info": {
   "codemirror_mode": {
    "name": "ipython",
    "version": 3
   },
   "file_extension": ".py",
   "mimetype": "text/x-python",
   "name": "python",
   "nbconvert_exporter": "python",
   "pygments_lexer": "ipython3",
   "version": "3.12.4"
  }
 },
 "nbformat": 4,
 "nbformat_minor": 5
}
