{
 "cells": [
  {
   "cell_type": "code",
   "execution_count": 19,
   "id": "d7e24d3b-97b2-45a5-bfd9-75b8be8f52d1",
   "metadata": {},
   "outputs": [
    {
     "name": "stdout",
     "output_type": "stream",
     "text": [
      "           Country  Population           Capital\n",
      "USA  United States         331  Washington, D.C.\n",
      "CAN         Canada          38            Ottawa\n",
      "DEU        Germany          84            Berlin\n",
      "BR          Brazil         213          Brasília\n",
      "JPN          Japan         126             Tokyo\n",
      "AUS      Australia          25          Canberra\n",
      "IND          India        1380         New Delhi\n"
     ]
    }
   ],
   "source": [
    "# Create a DataFrame\n",
    "data = {\n",
    "    'Country': ['United States', 'Canada', 'Germany', 'Brazil', 'Japan',\n",
    "                'Australia', 'India'],\n",
    "    'Population': [331, 38, 84, 213, 126, \n",
    "                       25, 1380],\n",
    "    'Capital': ['Washington, D.C.', 'Ottawa', 'Berlin', 'Brasília', 'Tokyo',\n",
    "                'Canberra', 'New Delhi',]\n",
    "}\n",
    "# Create the DataFrame\n",
    "df = pd.DataFrame(data)\n",
    "df.index=['USA', 'CAN', 'DEU', 'BR', 'JPN',\n",
    "                   'AUS', 'IND']\n",
    "# Save the DataFrame to a CSV file\n",
    "df.to_csv('countries.csv')\n",
    "\n",
    "# Read the CSV file into a DataFrame\n",
    "df_from_csv = pd.read_csv('countries.csv',index_col=0)\n",
    "\n",
    "# Display the DataFrame\n",
    "print(df_from_csv)"
   ]
  },
  {
   "cell_type": "code",
   "execution_count": 21,
   "id": "a2275c38-5c23-4d4f-bb94-c1117beb442e",
   "metadata": {},
   "outputs": [
    {
     "data": {
      "text/plain": [
       "USA    United States\n",
       "CAN           Canada\n",
       "DEU          Germany\n",
       "BR            Brazil\n",
       "JPN            Japan\n",
       "AUS        Australia\n",
       "IND            India\n",
       "Name: Country, dtype: object"
      ]
     },
     "execution_count": 21,
     "metadata": {},
     "output_type": "execute_result"
    }
   ],
   "source": [
    "# column access\n",
    "df['Country']"
   ]
  },
  {
   "cell_type": "code",
   "execution_count": 23,
   "id": "283b3a5f-0078-4969-b615-e470226a9e6f",
   "metadata": {},
   "outputs": [
    {
     "data": {
      "text/plain": [
       "pandas.core.series.Series"
      ]
     },
     "execution_count": 23,
     "metadata": {},
     "output_type": "execute_result"
    }
   ],
   "source": [
    "type(df[\"Country\"])"
   ]
  },
  {
   "cell_type": "code",
   "execution_count": 25,
   "id": "71e74d82-63f1-47a5-877c-f11d9ac02732",
   "metadata": {},
   "outputs": [
    {
     "data": {
      "text/html": [
       "<div>\n",
       "<style scoped>\n",
       "    .dataframe tbody tr th:only-of-type {\n",
       "        vertical-align: middle;\n",
       "    }\n",
       "\n",
       "    .dataframe tbody tr th {\n",
       "        vertical-align: top;\n",
       "    }\n",
       "\n",
       "    .dataframe thead th {\n",
       "        text-align: right;\n",
       "    }\n",
       "</style>\n",
       "<table border=\"1\" class=\"dataframe\">\n",
       "  <thead>\n",
       "    <tr style=\"text-align: right;\">\n",
       "      <th></th>\n",
       "      <th>Country</th>\n",
       "    </tr>\n",
       "  </thead>\n",
       "  <tbody>\n",
       "    <tr>\n",
       "      <th>USA</th>\n",
       "      <td>United States</td>\n",
       "    </tr>\n",
       "    <tr>\n",
       "      <th>CAN</th>\n",
       "      <td>Canada</td>\n",
       "    </tr>\n",
       "    <tr>\n",
       "      <th>DEU</th>\n",
       "      <td>Germany</td>\n",
       "    </tr>\n",
       "    <tr>\n",
       "      <th>BR</th>\n",
       "      <td>Brazil</td>\n",
       "    </tr>\n",
       "    <tr>\n",
       "      <th>JPN</th>\n",
       "      <td>Japan</td>\n",
       "    </tr>\n",
       "    <tr>\n",
       "      <th>AUS</th>\n",
       "      <td>Australia</td>\n",
       "    </tr>\n",
       "    <tr>\n",
       "      <th>IND</th>\n",
       "      <td>India</td>\n",
       "    </tr>\n",
       "  </tbody>\n",
       "</table>\n",
       "</div>"
      ],
      "text/plain": [
       "           Country\n",
       "USA  United States\n",
       "CAN         Canada\n",
       "DEU        Germany\n",
       "BR          Brazil\n",
       "JPN          Japan\n",
       "AUS      Australia\n",
       "IND          India"
      ]
     },
     "execution_count": 25,
     "metadata": {},
     "output_type": "execute_result"
    }
   ],
   "source": [
    "df[['Country']]"
   ]
  },
  {
   "cell_type": "code",
   "execution_count": 27,
   "id": "01186e12-2317-4132-bc34-9effbccaf8fe",
   "metadata": {},
   "outputs": [
    {
     "data": {
      "text/plain": [
       "pandas.core.frame.DataFrame"
      ]
     },
     "execution_count": 27,
     "metadata": {},
     "output_type": "execute_result"
    }
   ],
   "source": [
    "type(df[[\"Country\",]])"
   ]
  },
  {
   "cell_type": "code",
   "execution_count": 29,
   "id": "13d3ba6c-02c6-43f6-b996-faed03a21c1f",
   "metadata": {},
   "outputs": [
    {
     "data": {
      "text/html": [
       "<div>\n",
       "<style scoped>\n",
       "    .dataframe tbody tr th:only-of-type {\n",
       "        vertical-align: middle;\n",
       "    }\n",
       "\n",
       "    .dataframe tbody tr th {\n",
       "        vertical-align: top;\n",
       "    }\n",
       "\n",
       "    .dataframe thead th {\n",
       "        text-align: right;\n",
       "    }\n",
       "</style>\n",
       "<table border=\"1\" class=\"dataframe\">\n",
       "  <thead>\n",
       "    <tr style=\"text-align: right;\">\n",
       "      <th></th>\n",
       "      <th>Country</th>\n",
       "      <th>Population</th>\n",
       "    </tr>\n",
       "  </thead>\n",
       "  <tbody>\n",
       "    <tr>\n",
       "      <th>USA</th>\n",
       "      <td>United States</td>\n",
       "      <td>331</td>\n",
       "    </tr>\n",
       "    <tr>\n",
       "      <th>CAN</th>\n",
       "      <td>Canada</td>\n",
       "      <td>38</td>\n",
       "    </tr>\n",
       "    <tr>\n",
       "      <th>DEU</th>\n",
       "      <td>Germany</td>\n",
       "      <td>84</td>\n",
       "    </tr>\n",
       "    <tr>\n",
       "      <th>BR</th>\n",
       "      <td>Brazil</td>\n",
       "      <td>213</td>\n",
       "    </tr>\n",
       "    <tr>\n",
       "      <th>JPN</th>\n",
       "      <td>Japan</td>\n",
       "      <td>126</td>\n",
       "    </tr>\n",
       "    <tr>\n",
       "      <th>AUS</th>\n",
       "      <td>Australia</td>\n",
       "      <td>25</td>\n",
       "    </tr>\n",
       "    <tr>\n",
       "      <th>IND</th>\n",
       "      <td>India</td>\n",
       "      <td>1380</td>\n",
       "    </tr>\n",
       "  </tbody>\n",
       "</table>\n",
       "</div>"
      ],
      "text/plain": [
       "           Country  Population\n",
       "USA  United States         331\n",
       "CAN         Canada          38\n",
       "DEU        Germany          84\n",
       "BR          Brazil         213\n",
       "JPN          Japan         126\n",
       "AUS      Australia          25\n",
       "IND          India        1380"
      ]
     },
     "execution_count": 29,
     "metadata": {},
     "output_type": "execute_result"
    }
   ],
   "source": [
    "df[[\"Country\",\"Population\"]]"
   ]
  },
  {
   "cell_type": "code",
   "execution_count": 31,
   "id": "bb05e55b-75d3-46e1-96a5-e71d46c77130",
   "metadata": {},
   "outputs": [
    {
     "data": {
      "text/html": [
       "<div>\n",
       "<style scoped>\n",
       "    .dataframe tbody tr th:only-of-type {\n",
       "        vertical-align: middle;\n",
       "    }\n",
       "\n",
       "    .dataframe tbody tr th {\n",
       "        vertical-align: top;\n",
       "    }\n",
       "\n",
       "    .dataframe thead th {\n",
       "        text-align: right;\n",
       "    }\n",
       "</style>\n",
       "<table border=\"1\" class=\"dataframe\">\n",
       "  <thead>\n",
       "    <tr style=\"text-align: right;\">\n",
       "      <th></th>\n",
       "      <th>Country</th>\n",
       "      <th>Population</th>\n",
       "      <th>Capital</th>\n",
       "    </tr>\n",
       "  </thead>\n",
       "  <tbody>\n",
       "    <tr>\n",
       "      <th>CAN</th>\n",
       "      <td>Canada</td>\n",
       "      <td>38</td>\n",
       "      <td>Ottawa</td>\n",
       "    </tr>\n",
       "    <tr>\n",
       "      <th>DEU</th>\n",
       "      <td>Germany</td>\n",
       "      <td>84</td>\n",
       "      <td>Berlin</td>\n",
       "    </tr>\n",
       "    <tr>\n",
       "      <th>BR</th>\n",
       "      <td>Brazil</td>\n",
       "      <td>213</td>\n",
       "      <td>Brasília</td>\n",
       "    </tr>\n",
       "  </tbody>\n",
       "</table>\n",
       "</div>"
      ],
      "text/plain": [
       "     Country  Population   Capital\n",
       "CAN   Canada          38    Ottawa\n",
       "DEU  Germany          84    Berlin\n",
       "BR    Brazil         213  Brasília"
      ]
     },
     "execution_count": 31,
     "metadata": {},
     "output_type": "execute_result"
    }
   ],
   "source": [
    "# Row Access[]\n",
    "df[1:4]"
   ]
  },
  {
   "cell_type": "code",
   "execution_count": 33,
   "id": "725ebbb9-6e57-48e7-804e-222dcfe845af",
   "metadata": {},
   "outputs": [],
   "source": [
    "# Discussion[]\n",
    "# square brackets:limited functionality\n",
    "# ideally ->2D NumPy arrays,my_array[rows,columns]\n",
    "# pandas->loc(label-based),iloc(integer position-based)"
   ]
  },
  {
   "cell_type": "code",
   "execution_count": 43,
   "id": "f3a06c43-ec00-430a-ad3d-7fbde4820268",
   "metadata": {},
   "outputs": [
    {
     "name": "stdout",
     "output_type": "stream",
     "text": [
      "Age           25\n",
      "City    New York\n",
      "Name: Alice, dtype: object\n"
     ]
    }
   ],
   "source": [
    "import pandas as pd\n",
    "\n",
    "# Create a DataFrame\n",
    "data = {\n",
    "    'Name': ['Alice', 'Bob', 'Charlie'],\n",
    "    'Age': [25, 30, 35],\n",
    "    'City': ['New York', 'Los Angeles', 'Chicago']\n",
    "}\n",
    "df = pd.DataFrame(data)\n",
    "# Set the index to the 'Name' column\n",
    "df.set_index('Name', inplace=True)\n",
    "\n",
    "# Access using .loc (label-based)\n",
    "print(df.loc['Alice']) "
   ]
  },
  {
   "cell_type": "code",
   "execution_count": 45,
   "id": "ffbc84b0-d111-465a-b675-6443a4d32610",
   "metadata": {},
   "outputs": [
    {
     "name": "stdout",
     "output_type": "stream",
     "text": [
      "Age              30\n",
      "City    Los Angeles\n",
      "Name: Bob, dtype: object\n"
     ]
    }
   ],
   "source": [
    "# Access using .iloc (integer position-based)\n",
    "print(df.iloc[1])"
   ]
  },
  {
   "cell_type": "code",
   "execution_count": 49,
   "id": "d1e91eb5-6055-4bfa-8ba0-1f56025ab30c",
   "metadata": {},
   "outputs": [
    {
     "name": "stdout",
     "output_type": "stream",
     "text": [
      "       Age      City\n",
      "Name                \n",
      "Alice   25  New York\n"
     ]
    }
   ],
   "source": [
    "# Access using .loc (label-based) Row Access\n",
    "print(df.loc[['Alice']]) "
   ]
  },
  {
   "cell_type": "code",
   "execution_count": 51,
   "id": "948d3f4b-3bbf-40c0-9f58-a1f0e0c3eca9",
   "metadata": {},
   "outputs": [
    {
     "name": "stdout",
     "output_type": "stream",
     "text": [
      "         Age         City\n",
      "Name                     \n",
      "Alice     25     New York\n",
      "Bob       30  Los Angeles\n",
      "Charlie   35      Chicago\n"
     ]
    }
   ],
   "source": [
    "print(df.loc[['Alice', 'Bob', 'Charlie']]) "
   ]
  },
  {
   "cell_type": "code",
   "execution_count": 55,
   "id": "468505c1-5b0a-4430-8e15-b0c83046bbb1",
   "metadata": {},
   "outputs": [
    {
     "name": "stdout",
     "output_type": "stream",
     "text": [
      "         Age\n",
      "Name        \n",
      "Alice     25\n",
      "Bob       30\n",
      "Charlie   35\n"
     ]
    }
   ],
   "source": [
    "# Row and Column\n",
    "print(df.loc[['Alice', 'Bob', 'Charlie'],[\"Age\"]]) "
   ]
  },
  {
   "cell_type": "code",
   "execution_count": 57,
   "id": "5167e7c1-d662-412a-8b7b-2e2b5af653fb",
   "metadata": {},
   "outputs": [
    {
     "name": "stdout",
     "output_type": "stream",
     "text": [
      "         Age         City\n",
      "Name                     \n",
      "Alice     25     New York\n",
      "Bob       30  Los Angeles\n",
      "Charlie   35      Chicago\n"
     ]
    }
   ],
   "source": [
    "# Row and Column\n",
    "print(df.loc[['Alice', 'Bob', 'Charlie'],[\"Age\",\"City\"]]) "
   ]
  },
  {
   "cell_type": "code",
   "execution_count": 59,
   "id": "d5d3467b-df64-4587-86ee-831bc1ad20d9",
   "metadata": {},
   "outputs": [
    {
     "name": "stdout",
     "output_type": "stream",
     "text": [
      "         Age\n",
      "Name        \n",
      "Alice     25\n",
      "Bob       30\n",
      "Charlie   35\n"
     ]
    }
   ],
   "source": [
    "# Column\n",
    "\n",
    "print(df.loc[:,[\"Age\"]]) "
   ]
  },
  {
   "cell_type": "code",
   "execution_count": 61,
   "id": "d6b4ccde-fa71-427d-86bb-fb31494febe0",
   "metadata": {},
   "outputs": [],
   "source": [
    "# # Recap\n",
    "# ->square brackets\n",
    "# .column access df[[\"Age\",\"City\"]]\n",
    "# .Row access only through slicing df[1:4]\n",
    "\n",
    "# ->loc(label-based)\n",
    "# .Row Access df.loc[['Alice', 'Bob', 'Charlie']]\n",
    "# .Column Access df.loc[:,[\"Age\"]]\n",
    "# .Row and column Access print(df.loc[['Alice', 'Bob', 'Charlie'],[\"Age\",\"City\"]]) "
   ]
  },
  {
   "cell_type": "code",
   "execution_count": 65,
   "id": "a57c703a-d2fe-4430-80fa-a011f2b3fa6e",
   "metadata": {},
   "outputs": [
    {
     "name": "stdout",
     "output_type": "stream",
     "text": [
      "      Age         City\n",
      "Name                  \n",
      "Bob    30  Los Angeles\n"
     ]
    }
   ],
   "source": [
    "# Row Access iloc\n",
    "print(df.iloc[[1]]) "
   ]
  },
  {
   "cell_type": "code",
   "execution_count": 67,
   "id": "c0632d6e-808e-41a6-955b-5f34446c7b13",
   "metadata": {},
   "outputs": [
    {
     "name": "stdout",
     "output_type": "stream",
     "text": [
      "         Age         City\n",
      "Name                     \n",
      "Bob       30  Los Angeles\n",
      "Charlie   35      Chicago\n"
     ]
    }
   ],
   "source": [
    "# Row Access iloc\n",
    "print(df.iloc[[1,2]]) "
   ]
  },
  {
   "cell_type": "code",
   "execution_count": 73,
   "id": "0c7dba71-dcc7-46d7-af06-a32e72c87c0d",
   "metadata": {},
   "outputs": [
    {
     "name": "stdout",
     "output_type": "stream",
     "text": [
      "         Age\n",
      "Name        \n",
      "Alice     25\n",
      "Bob       30\n",
      "Charlie   35\n"
     ]
    }
   ],
   "source": [
    "# Row and Coumn\n",
    "print(df.iloc[[0,1,2],[0]]) "
   ]
  },
  {
   "cell_type": "code",
   "execution_count": 77,
   "id": "acb8f53f-9b5c-4b54-9fa9-12df1a7f30d7",
   "metadata": {},
   "outputs": [
    {
     "name": "stdout",
     "output_type": "stream",
     "text": [
      "         Age         City\n",
      "Name                     \n",
      "Alice     25     New York\n",
      "Bob       30  Los Angeles\n",
      "Charlie   35      Chicago\n"
     ]
    }
   ],
   "source": [
    "# Coumn\n",
    "print(df.iloc[:,[0,1]]) "
   ]
  },
  {
   "cell_type": "code",
   "execution_count": 81,
   "id": "ed4ca5bd-63ca-46e7-841f-53fe5883dc15",
   "metadata": {},
   "outputs": [],
   "source": [
    "# # Import cars data\n",
    "# import pandas as pd\n",
    "# cars = pd.read_csv('cars.csv', index_col = 0)\n",
    "# # single bracket version gives a Pandas Series,\n",
    "# # the double bracket version gives a Pandas DataFrame.\n",
    "# # Print out country column as Pandas Series\n",
    "# print(cars[\"country\"])\n",
    "\n",
    "# # Print out country column as Pandas DataFrame\n",
    "# print(cars[[\"country\"]])\n",
    "# # Print out DataFrame with country and drives_right columns\n",
    "# print(cars[['country','drives_right']])"
   ]
  },
  {
   "cell_type": "code",
   "execution_count": 83,
   "id": "625c498f-2828-44ae-a2a9-0610092c619d",
   "metadata": {},
   "outputs": [],
   "source": [
    "# # Import cars data\n",
    "# import pandas as pd\n",
    "# cars = pd.read_csv('cars.csv', index_col = 0)\n",
    "\n",
    "# # Print out observation for Japan\n",
    "# japan_series = cars.loc['JPN'] \n",
    "# print(japan_series)\n",
    "\n",
    "# # Print out observations for Australia and Egypt\n",
    "# australia_egypt_df = cars.loc[['AUS', 'EG']]  \n",
    "# print(australia_egypt_df)"
   ]
  },
  {
   "cell_type": "code",
   "execution_count": 85,
   "id": "6ba68b55-d534-4fa0-840d-1b18d5416d4d",
   "metadata": {},
   "outputs": [],
   "source": [
    "# # Import cars data\n",
    "# import pandas as pd\n",
    "# cars = pd.read_csv('cars.csv', index_col = 0)\n",
    "\n",
    "# # Print out drives_right value of Morocco\n",
    "# print(cars.loc['MOR', 'drives_right'])\n",
    "\n",
    "\n",
    "# # Print sub-DataFrame\n",
    "# print(cars.loc[['RU', 'MOR'], ['country', 'drives_right']])"
   ]
  },
  {
   "cell_type": "code",
   "execution_count": null,
   "id": "4f6465d1-1b0c-43e3-be73-69c3e4bc7a8e",
   "metadata": {},
   "outputs": [],
   "source": [
    "# # Import cars data\n",
    "# import pandas as pd\n",
    "# cars = pd.read_csv('cars.csv', index_col = 0)\n",
    "\n",
    "# # Print out drives_right column as Series\n",
    "\n",
    "# print(cars['drives_right'])\n",
    "# # Print out drives_right column as DataFrame\n",
    "# print(cars[['drives_right']])\n",
    "\n",
    "# # Print out cars_per_cap and drives_right as DataFrame\n",
    "\n",
    "# print(cars[['cars_per_cap', 'drives_right']])"
   ]
  }
 ],
 "metadata": {
  "kernelspec": {
   "display_name": "Python 3 (ipykernel)",
   "language": "python",
   "name": "python3"
  },
  "language_info": {
   "codemirror_mode": {
    "name": "ipython",
    "version": 3
   },
   "file_extension": ".py",
   "mimetype": "text/x-python",
   "name": "python",
   "nbconvert_exporter": "python",
   "pygments_lexer": "ipython3",
   "version": "3.12.4"
  }
 },
 "nbformat": 4,
 "nbformat_minor": 5
}
