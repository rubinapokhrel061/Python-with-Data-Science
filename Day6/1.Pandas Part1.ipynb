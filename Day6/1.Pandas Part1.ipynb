{
 "cells": [
  {
   "cell_type": "code",
   "execution_count": 5,
   "id": "aadcf61d-1307-41f2-9e09-df9c9c02f91c",
   "metadata": {},
   "outputs": [
    {
     "name": "stdout",
     "output_type": "stream",
     "text": [
      "     Country  Population (M)           Capital\n",
      "0        USA             331  Washington, D.C.\n",
      "1     Canada              38            Ottawa\n",
      "2    Germany              84            Berlin\n",
      "3     Brazil             213          Brasília\n",
      "4      Japan             126             Tokyo\n",
      "5  Australia              25          Canberra\n",
      "6      India            1380         New Delhi\n",
      "7     Russia             146            Moscow\n"
     ]
    }
   ],
   "source": [
    "import pandas as pd\n",
    "\n",
    "# Create a dictionary with country names, populations in millions, and capitals\n",
    "data = {\n",
    "    'Country': ['USA', 'Canada', 'Germany', 'Brazil', 'Japan',\n",
    "                'Australia', 'India', 'Russia'],\n",
    "    'Population (M)': [331, 38, 84, 213, 126, \n",
    "                       25, 1380, 146, ],\n",
    "    'Capital': ['Washington, D.C.', 'Ottawa', 'Berlin', 'Brasília', 'Tokyo',\n",
    "                'Canberra', 'New Delhi', 'Moscow']\n",
    "}\n",
    "\n",
    "# Create the DataFrame\n",
    "brics = pd.DataFrame(data)\n",
    "\n",
    "# Display the DataFrame\n",
    "print(brics)\n"
   ]
  },
  {
   "cell_type": "code",
   "execution_count": 7,
   "id": "e8389f17-b19d-4ce2-a9fc-1252ca8c8110",
   "metadata": {},
   "outputs": [
    {
     "data": {
      "text/html": [
       "<div>\n",
       "<style scoped>\n",
       "    .dataframe tbody tr th:only-of-type {\n",
       "        vertical-align: middle;\n",
       "    }\n",
       "\n",
       "    .dataframe tbody tr th {\n",
       "        vertical-align: top;\n",
       "    }\n",
       "\n",
       "    .dataframe thead th {\n",
       "        text-align: right;\n",
       "    }\n",
       "</style>\n",
       "<table border=\"1\" class=\"dataframe\">\n",
       "  <thead>\n",
       "    <tr style=\"text-align: right;\">\n",
       "      <th></th>\n",
       "      <th>Country</th>\n",
       "      <th>Population (M)</th>\n",
       "      <th>Capital</th>\n",
       "    </tr>\n",
       "  </thead>\n",
       "  <tbody>\n",
       "    <tr>\n",
       "      <th>USA</th>\n",
       "      <td>USA</td>\n",
       "      <td>331</td>\n",
       "      <td>Washington, D.C.</td>\n",
       "    </tr>\n",
       "    <tr>\n",
       "      <th>CAN</th>\n",
       "      <td>Canada</td>\n",
       "      <td>38</td>\n",
       "      <td>Ottawa</td>\n",
       "    </tr>\n",
       "    <tr>\n",
       "      <th>DEU</th>\n",
       "      <td>Germany</td>\n",
       "      <td>84</td>\n",
       "      <td>Berlin</td>\n",
       "    </tr>\n",
       "    <tr>\n",
       "      <th>BR</th>\n",
       "      <td>Brazil</td>\n",
       "      <td>213</td>\n",
       "      <td>Brasília</td>\n",
       "    </tr>\n",
       "    <tr>\n",
       "      <th>JPN</th>\n",
       "      <td>Japan</td>\n",
       "      <td>126</td>\n",
       "      <td>Tokyo</td>\n",
       "    </tr>\n",
       "    <tr>\n",
       "      <th>AUS</th>\n",
       "      <td>Australia</td>\n",
       "      <td>25</td>\n",
       "      <td>Canberra</td>\n",
       "    </tr>\n",
       "    <tr>\n",
       "      <th>IND</th>\n",
       "      <td>India</td>\n",
       "      <td>1380</td>\n",
       "      <td>New Delhi</td>\n",
       "    </tr>\n",
       "    <tr>\n",
       "      <th>RUS</th>\n",
       "      <td>Russia</td>\n",
       "      <td>146</td>\n",
       "      <td>Moscow</td>\n",
       "    </tr>\n",
       "  </tbody>\n",
       "</table>\n",
       "</div>"
      ],
      "text/plain": [
       "       Country  Population (M)           Capital\n",
       "USA        USA             331  Washington, D.C.\n",
       "CAN     Canada              38            Ottawa\n",
       "DEU    Germany              84            Berlin\n",
       "BR      Brazil             213          Brasília\n",
       "JPN      Japan             126             Tokyo\n",
       "AUS  Australia              25          Canberra\n",
       "IND      India            1380         New Delhi\n",
       "RUS     Russia             146            Moscow"
      ]
     },
     "execution_count": 7,
     "metadata": {},
     "output_type": "execute_result"
    }
   ],
   "source": [
    "brics.index=['USA', 'CAN', 'DEU', 'BR', 'JPN',\n",
    "                   'AUS', 'IND', 'RUS']\n",
    "brics\n"
   ]
  },
  {
   "cell_type": "code",
   "execution_count": 9,
   "id": "83a28e04-797b-44b3-9a5f-89d74cfb8f5c",
   "metadata": {},
   "outputs": [],
   "source": [
    "# DataFrame from CSV (comma separated values) file"
   ]
  },
  {
   "cell_type": "code",
   "execution_count": 11,
   "id": "f740151a-ba48-4bf2-8270-5f69d307029e",
   "metadata": {},
   "outputs": [],
   "source": [
    "# Creating a CSV File: Use DataFrame.to_csv()\n",
    "# Reading a CSV File: Use pd.read_csv().\n",
    "# Saving Changes: Use DataFrame.to_csv() again to save any updates."
   ]
  },
  {
   "cell_type": "code",
   "execution_count": 27,
   "id": "61ae1529-2a0e-48f6-843a-f7278bd03c40",
   "metadata": {},
   "outputs": [
    {
     "name": "stdout",
     "output_type": "stream",
     "text": [
      "           Country  Population (M)           Capital\n",
      "USA  United States             331  Washington, D.C.\n",
      "CAN         Canada              38            Ottawa\n",
      "DEU        Germany              84            Berlin\n",
      "BR          Brazil             213          Brasília\n",
      "JPN          Japan             126             Tokyo\n",
      "AUS      Australia              25          Canberra\n",
      "IND          India            1380         New Delhi\n"
     ]
    }
   ],
   "source": [
    "# Create a DataFrame\n",
    "data = {\n",
    "    'Country': ['United States', 'Canada', 'Germany', 'Brazil', 'Japan',\n",
    "                'Australia', 'India'],\n",
    "    'Population (M)': [331, 38, 84, 213, 126, \n",
    "                       25, 1380],\n",
    "    'Capital': ['Washington, D.C.', 'Ottawa', 'Berlin', 'Brasília', 'Tokyo',\n",
    "                'Canberra', 'New Delhi',]\n",
    "}\n",
    "# Create the DataFrame\n",
    "df = pd.DataFrame(data)\n",
    "df.index=['USA', 'CAN', 'DEU', 'BR', 'JPN',\n",
    "                   'AUS', 'IND']\n",
    "# Save the DataFrame to a CSV file\n",
    "df.to_csv('countries.csv')\n",
    "\n",
    "# Read the CSV file into a DataFrame\n",
    "df_from_csv = pd.read_csv('countries.csv',index_col=0)\n",
    "\n",
    "# Display the DataFrame\n",
    "print(df_from_csv)"
   ]
  },
  {
   "cell_type": "code",
   "execution_count": 29,
   "id": "486342ce-0923-40bb-8a79-d81793b1adb7",
   "metadata": {},
   "outputs": [
    {
     "name": "stdout",
     "output_type": "stream",
     "text": [
      "         country  drives_right  cars_per_cap\n",
      "0  United States          True           809\n",
      "1      Australia         False           731\n",
      "2          Japan         False           588\n",
      "3          India         False            18\n",
      "4         Russia          True           200\n",
      "5        Morocco          True            70\n",
      "6          Egypt          True            45\n"
     ]
    }
   ],
   "source": [
    "# Pre-defined lists\n",
    "names = ['United States', 'Australia', 'Japan', 'India', 'Russia', 'Morocco', 'Egypt']\n",
    "dr =  [True, False, False, False, True, True, True]\n",
    "cpc = [809, 731, 588, 18, 200, 70, 45]\n",
    "\n",
    "# Import pandas as pd\n",
    "import pandas as pd\n",
    "\n",
    "# Create dictionary my_dict with three key:value pairs: my_dict\n",
    "my_dict = {\n",
    "    'country': names,\n",
    "    'drives_right': dr,\n",
    "    'cars_per_cap': cpc\n",
    "}\n",
    "# Build a DataFrame cars from my_dict: cars\n",
    "cars =pd.DataFrame(my_dict)\n",
    "\n",
    "# Print cars\n",
    "print(cars)"
   ]
  },
  {
   "cell_type": "code",
   "execution_count": 33,
   "id": "4e77d849-1f3b-4fa2-971a-6f040efbb1df",
   "metadata": {},
   "outputs": [],
   "source": [
    "# # Import pandas as pd\n",
    "# import pandas as pd\n",
    "\n",
    "# # Import the cars.csv data: cars\n",
    "\n",
    "# cars =pd.read_csv(\"cars.csv\")\n",
    "# # Print out cars\n",
    "# print(cars)"
   ]
  },
  {
   "cell_type": "code",
   "execution_count": 35,
   "id": "1bec5d68-f648-4c6d-8c73-1d24123dd888",
   "metadata": {},
   "outputs": [],
   "source": [
    "# # Import pandas as pd\n",
    "# import pandas as pd\n",
    "\n",
    "# # Fix import by including index_col\n",
    "# cars = pd.read_csv('cars.csv',index_col=0)\n",
    "\n",
    "# # Print out cars\n",
    "# print(cars)"
   ]
  },
  {
   "cell_type": "code",
   "execution_count": 37,
   "id": "77d6764b-b7c2-470c-a508-816dcba13fe6",
   "metadata": {},
   "outputs": [
    {
     "name": "stdout",
     "output_type": "stream",
     "text": [
      "         country  drives_right  cars_per_cap\n",
      "0  United States          True           809\n",
      "1      Australia         False           731\n",
      "2          Japan         False           588\n",
      "3          India         False            18\n",
      "4         Russia          True           200\n",
      "5        Morocco          True            70\n",
      "6          Egypt          True            45\n",
      "           country  drives_right  cars_per_cap\n",
      "US   United States          True           809\n",
      "AUS      Australia         False           731\n",
      "JPN          Japan         False           588\n",
      "IN           India         False            18\n",
      "RU          Russia          True           200\n",
      "MOR        Morocco          True            70\n",
      "EG           Egypt          True            45\n"
     ]
    }
   ],
   "source": [
    "import pandas as pd\n",
    "\n",
    "# Build cars DataFrame\n",
    "names = ['United States', 'Australia', 'Japan', 'India', 'Russia', 'Morocco', 'Egypt']\n",
    "dr =  [True, False, False, False, True, True, True]\n",
    "cpc = [809, 731, 588, 18, 200, 70, 45]\n",
    "cars_dict = { 'country':names, 'drives_right':dr, 'cars_per_cap':cpc }\n",
    "cars = pd.DataFrame(cars_dict)\n",
    "print(cars)\n",
    "\n",
    "# Definition of row_labels\n",
    "row_labels = ['US', 'AUS', 'JPN', 'IN', 'RU', 'MOR', 'EG']\n",
    "\n",
    "# Specify row labels of cars\n",
    "cars.index=row_labels\n",
    "\n",
    "# Print cars again\n",
    "print(cars)"
   ]
  },
  {
   "cell_type": "code",
   "execution_count": null,
   "id": "f4a95edb-9e3f-4c78-92da-3631c19303ef",
   "metadata": {},
   "outputs": [],
   "source": []
  }
 ],
 "metadata": {
  "kernelspec": {
   "display_name": "Python 3 (ipykernel)",
   "language": "python",
   "name": "python3"
  },
  "language_info": {
   "codemirror_mode": {
    "name": "ipython",
    "version": 3
   },
   "file_extension": ".py",
   "mimetype": "text/x-python",
   "name": "python",
   "nbconvert_exporter": "python",
   "pygments_lexer": "ipython3",
   "version": "3.12.4"
  }
 },
 "nbformat": 4,
 "nbformat_minor": 5
}
